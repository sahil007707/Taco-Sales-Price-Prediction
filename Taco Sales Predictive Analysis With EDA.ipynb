{
 "cells": [
  {
   "cell_type": "markdown",
   "id": "33cc7b32",
   "metadata": {},
   "source": [
    "## Importing Libraries"
   ]
  },
  {
   "cell_type": "code",
   "execution_count": 2034,
   "id": "09cf8d38",
   "metadata": {},
   "outputs": [],
   "source": [
    "import pandas as pd\n",
    "import numpy as np\n",
    "import seaborn as sns\n",
    "import matplotlib.pyplot as plt\n",
    "import plotly.express as px\n",
    "pd.set_option(\"display.max_columns\",50)\n",
    "import warnings\n",
    "warnings.simplefilter(action='ignore', category=UserWarning)\n",
    "from sklearn.linear_model import LinearRegression\n",
    "from sklearn.model_selection import train_test_split\n",
    "from sklearn.preprocessing import LabelEncoder\n",
    "import datetime\n",
    "from sklearn.metrics import mean_squared_error"
   ]
  },
  {
   "cell_type": "markdown",
   "id": "44049632",
   "metadata": {},
   "source": [
    "# Project:\n",
    "## Taco Sales Predictive Analysis With EDA (2024-2025)"
   ]
  },
  {
   "cell_type": "code",
   "execution_count": 2035,
   "id": "e7ba659f",
   "metadata": {},
   "outputs": [],
   "source": [
    "df=pd.read_csv(r\"c:\\Users\\user\\Desktop\\Kaggle Datasets\\taco_sales_(2024-2025).csv\")"
   ]
  },
  {
   "cell_type": "markdown",
   "id": "8fb4136f",
   "metadata": {},
   "source": [
    "## Data Info"
   ]
  },
  {
   "cell_type": "code",
   "execution_count": 2036,
   "id": "9789ba4f",
   "metadata": {},
   "outputs": [
    {
     "name": "stdout",
     "output_type": "stream",
     "text": [
      "<class 'pandas.core.frame.DataFrame'>\n",
      "RangeIndex: 1000 entries, 0 to 999\n",
      "Data columns (total 13 columns):\n",
      " #   Column                   Non-Null Count  Dtype  \n",
      "---  ------                   --------------  -----  \n",
      " 0   Order ID                 1000 non-null   int64  \n",
      " 1   Restaurant Name          1000 non-null   object \n",
      " 2   Location                 1000 non-null   object \n",
      " 3   Order Time               1000 non-null   object \n",
      " 4   Delivery Time            1000 non-null   object \n",
      " 5   Delivery Duration (min)  1000 non-null   int64  \n",
      " 6   Taco Size                1000 non-null   object \n",
      " 7   Taco Type                1000 non-null   object \n",
      " 8   Toppings Count           1000 non-null   int64  \n",
      " 9   Distance (km)            1000 non-null   float64\n",
      " 10  Price ($)                1000 non-null   float64\n",
      " 11  Tip ($)                  1000 non-null   float64\n",
      " 12  Weekend Order            1000 non-null   bool   \n",
      "dtypes: bool(1), float64(3), int64(3), object(6)\n",
      "memory usage: 94.9+ KB\n"
     ]
    }
   ],
   "source": [
    "df.info()"
   ]
  },
  {
   "cell_type": "code",
   "execution_count": 2037,
   "id": "f21f2c53",
   "metadata": {},
   "outputs": [
    {
     "data": {
      "text/html": [
       "<div>\n",
       "<style scoped>\n",
       "    .dataframe tbody tr th:only-of-type {\n",
       "        vertical-align: middle;\n",
       "    }\n",
       "\n",
       "    .dataframe tbody tr th {\n",
       "        vertical-align: top;\n",
       "    }\n",
       "\n",
       "    .dataframe thead th {\n",
       "        text-align: right;\n",
       "    }\n",
       "</style>\n",
       "<table border=\"1\" class=\"dataframe\">\n",
       "  <thead>\n",
       "    <tr style=\"text-align: right;\">\n",
       "      <th></th>\n",
       "      <th>Order ID</th>\n",
       "      <th>Restaurant Name</th>\n",
       "      <th>Location</th>\n",
       "      <th>Order Time</th>\n",
       "      <th>Delivery Time</th>\n",
       "      <th>Delivery Duration (min)</th>\n",
       "      <th>Taco Size</th>\n",
       "      <th>Taco Type</th>\n",
       "      <th>Toppings Count</th>\n",
       "      <th>Distance (km)</th>\n",
       "      <th>Price ($)</th>\n",
       "      <th>Tip ($)</th>\n",
       "      <th>Weekend Order</th>\n",
       "    </tr>\n",
       "  </thead>\n",
       "  <tbody>\n",
       "    <tr>\n",
       "      <th>0</th>\n",
       "      <td>770487</td>\n",
       "      <td>El Taco Loco</td>\n",
       "      <td>New York</td>\n",
       "      <td>01-08-2024 14:55</td>\n",
       "      <td>01-08-2024 15:36</td>\n",
       "      <td>41</td>\n",
       "      <td>Regular</td>\n",
       "      <td>Chicken Taco</td>\n",
       "      <td>5</td>\n",
       "      <td>3.01</td>\n",
       "      <td>9.25</td>\n",
       "      <td>2.22</td>\n",
       "      <td>False</td>\n",
       "    </tr>\n",
       "    <tr>\n",
       "      <th>1</th>\n",
       "      <td>671858</td>\n",
       "      <td>El Taco Loco</td>\n",
       "      <td>San Antonio</td>\n",
       "      <td>23-11-2024 17:11</td>\n",
       "      <td>23-11-2024 17:25</td>\n",
       "      <td>14</td>\n",
       "      <td>Regular</td>\n",
       "      <td>Beef Taco</td>\n",
       "      <td>1</td>\n",
       "      <td>6.20</td>\n",
       "      <td>4.25</td>\n",
       "      <td>3.01</td>\n",
       "      <td>True</td>\n",
       "    </tr>\n",
       "    <tr>\n",
       "      <th>2</th>\n",
       "      <td>688508</td>\n",
       "      <td>Taco Haven</td>\n",
       "      <td>Austin</td>\n",
       "      <td>21-11-2024 20:24</td>\n",
       "      <td>21-11-2024 21:02</td>\n",
       "      <td>38</td>\n",
       "      <td>Large</td>\n",
       "      <td>Pork Taco</td>\n",
       "      <td>2</td>\n",
       "      <td>20.33</td>\n",
       "      <td>7.00</td>\n",
       "      <td>0.02</td>\n",
       "      <td>False</td>\n",
       "    </tr>\n",
       "    <tr>\n",
       "      <th>3</th>\n",
       "      <td>944962</td>\n",
       "      <td>Spicy Taco House</td>\n",
       "      <td>Dallas</td>\n",
       "      <td>21-09-2024 06:43</td>\n",
       "      <td>21-09-2024 07:28</td>\n",
       "      <td>45</td>\n",
       "      <td>Regular</td>\n",
       "      <td>Chicken Taco</td>\n",
       "      <td>2</td>\n",
       "      <td>3.00</td>\n",
       "      <td>5.50</td>\n",
       "      <td>1.90</td>\n",
       "      <td>True</td>\n",
       "    </tr>\n",
       "    <tr>\n",
       "      <th>4</th>\n",
       "      <td>476417</td>\n",
       "      <td>Casa del Taco</td>\n",
       "      <td>San Antonio</td>\n",
       "      <td>24-07-2024 11:01</td>\n",
       "      <td>24-07-2024 11:16</td>\n",
       "      <td>15</td>\n",
       "      <td>Large</td>\n",
       "      <td>Pork Taco</td>\n",
       "      <td>0</td>\n",
       "      <td>24.34</td>\n",
       "      <td>4.50</td>\n",
       "      <td>1.14</td>\n",
       "      <td>False</td>\n",
       "    </tr>\n",
       "  </tbody>\n",
       "</table>\n",
       "</div>"
      ],
      "text/plain": [
       "   Order ID   Restaurant Name     Location        Order Time  \\\n",
       "0    770487      El Taco Loco     New York  01-08-2024 14:55   \n",
       "1    671858      El Taco Loco  San Antonio  23-11-2024 17:11   \n",
       "2    688508        Taco Haven       Austin  21-11-2024 20:24   \n",
       "3    944962  Spicy Taco House       Dallas  21-09-2024 06:43   \n",
       "4    476417     Casa del Taco  San Antonio  24-07-2024 11:01   \n",
       "\n",
       "      Delivery Time  Delivery Duration (min) Taco Size     Taco Type  \\\n",
       "0  01-08-2024 15:36                       41   Regular  Chicken Taco   \n",
       "1  23-11-2024 17:25                       14   Regular     Beef Taco   \n",
       "2  21-11-2024 21:02                       38     Large     Pork Taco   \n",
       "3  21-09-2024 07:28                       45   Regular  Chicken Taco   \n",
       "4  24-07-2024 11:16                       15     Large     Pork Taco   \n",
       "\n",
       "   Toppings Count  Distance (km)  Price ($)  Tip ($)  Weekend Order  \n",
       "0               5           3.01       9.25     2.22          False  \n",
       "1               1           6.20       4.25     3.01           True  \n",
       "2               2          20.33       7.00     0.02          False  \n",
       "3               2           3.00       5.50     1.90           True  \n",
       "4               0          24.34       4.50     1.14          False  "
      ]
     },
     "execution_count": 2037,
     "metadata": {},
     "output_type": "execute_result"
    }
   ],
   "source": [
    "df.head()"
   ]
  },
  {
   "cell_type": "code",
   "execution_count": 2038,
   "id": "32369e40",
   "metadata": {},
   "outputs": [
    {
     "data": {
      "text/plain": [
       "Index(['Order ID', 'Restaurant Name', 'Location', 'Order Time',\n",
       "       'Delivery Time', 'Delivery Duration (min)', 'Taco Size', 'Taco Type',\n",
       "       'Toppings Count', 'Distance (km)', 'Price ($)', 'Tip ($)',\n",
       "       'Weekend Order'],\n",
       "      dtype='object')"
      ]
     },
     "execution_count": 2038,
     "metadata": {},
     "output_type": "execute_result"
    }
   ],
   "source": [
    "df.columns"
   ]
  },
  {
   "cell_type": "code",
   "execution_count": 2039,
   "id": "adabc494",
   "metadata": {},
   "outputs": [
    {
     "data": {
      "text/plain": [
       "(1000, 13)"
      ]
     },
     "execution_count": 2039,
     "metadata": {},
     "output_type": "execute_result"
    }
   ],
   "source": [
    "df.shape"
   ]
  },
  {
   "cell_type": "markdown",
   "id": "cf4aebdc",
   "metadata": {},
   "source": [
    "## Data Handling & Cleaning"
   ]
  },
  {
   "cell_type": "code",
   "execution_count": 2040,
   "id": "37d19fd7",
   "metadata": {},
   "outputs": [],
   "source": [
    "df.isna().sum()\n",
    "df.dropna(subset=[\"Delivery Time\"],inplace=True)"
   ]
  },
  {
   "cell_type": "code",
   "execution_count": 2041,
   "id": "60b18fa3",
   "metadata": {},
   "outputs": [],
   "source": [
    "df.duplicated().sum()\n",
    "df.drop_duplicates(inplace=True)"
   ]
  },
  {
   "cell_type": "code",
   "execution_count": 2042,
   "id": "878271b7",
   "metadata": {},
   "outputs": [
    {
     "data": {
      "text/plain": [
       "count                 1000\n",
       "unique                 999\n",
       "top       15-04-2025 16:06\n",
       "freq                     2\n",
       "Name: Delivery Time, dtype: object"
      ]
     },
     "execution_count": 2042,
     "metadata": {},
     "output_type": "execute_result"
    }
   ],
   "source": [
    "df[\"Delivery Time\"].describe()"
   ]
  },
  {
   "cell_type": "code",
   "execution_count": 2043,
   "id": "60b08668",
   "metadata": {},
   "outputs": [
    {
     "name": "stdout",
     "output_type": "stream",
     "text": [
      "<class 'pandas.core.frame.DataFrame'>\n",
      "RangeIndex: 1000 entries, 0 to 999\n",
      "Data columns (total 13 columns):\n",
      " #   Column                   Non-Null Count  Dtype  \n",
      "---  ------                   --------------  -----  \n",
      " 0   Order ID                 1000 non-null   int64  \n",
      " 1   Restaurant Name          1000 non-null   object \n",
      " 2   Location                 1000 non-null   object \n",
      " 3   Order Time               1000 non-null   object \n",
      " 4   Delivery Time            1000 non-null   object \n",
      " 5   Delivery Duration (min)  1000 non-null   int64  \n",
      " 6   Taco Size                1000 non-null   object \n",
      " 7   Taco Type                1000 non-null   object \n",
      " 8   Toppings Count           1000 non-null   int64  \n",
      " 9   Distance (km)            1000 non-null   float64\n",
      " 10  Price ($)                1000 non-null   float64\n",
      " 11  Tip ($)                  1000 non-null   float64\n",
      " 12  Weekend Order            1000 non-null   bool   \n",
      "dtypes: bool(1), float64(3), int64(3), object(6)\n",
      "memory usage: 94.9+ KB\n"
     ]
    }
   ],
   "source": [
    "df.info()"
   ]
  },
  {
   "cell_type": "code",
   "execution_count": 2044,
   "id": "a2e9425b",
   "metadata": {},
   "outputs": [
    {
     "data": {
      "text/html": [
       "<div>\n",
       "<style scoped>\n",
       "    .dataframe tbody tr th:only-of-type {\n",
       "        vertical-align: middle;\n",
       "    }\n",
       "\n",
       "    .dataframe tbody tr th {\n",
       "        vertical-align: top;\n",
       "    }\n",
       "\n",
       "    .dataframe thead th {\n",
       "        text-align: right;\n",
       "    }\n",
       "</style>\n",
       "<table border=\"1\" class=\"dataframe\">\n",
       "  <thead>\n",
       "    <tr style=\"text-align: right;\">\n",
       "      <th></th>\n",
       "      <th>Order ID</th>\n",
       "      <th>Restaurant Name</th>\n",
       "      <th>Location</th>\n",
       "      <th>Order Time</th>\n",
       "      <th>Delivery Time</th>\n",
       "      <th>Delivery Duration (min)</th>\n",
       "      <th>Taco Size</th>\n",
       "      <th>Taco Type</th>\n",
       "      <th>Toppings Count</th>\n",
       "      <th>Distance (km)</th>\n",
       "      <th>Price ($)</th>\n",
       "      <th>Tip ($)</th>\n",
       "      <th>Weekend Order</th>\n",
       "    </tr>\n",
       "  </thead>\n",
       "  <tbody>\n",
       "    <tr>\n",
       "      <th>0</th>\n",
       "      <td>770487</td>\n",
       "      <td>El Taco Loco</td>\n",
       "      <td>New York</td>\n",
       "      <td>01-08-2024 14:55</td>\n",
       "      <td>01-08-2024 15:36</td>\n",
       "      <td>41</td>\n",
       "      <td>Regular</td>\n",
       "      <td>Chicken Taco</td>\n",
       "      <td>5</td>\n",
       "      <td>3.01</td>\n",
       "      <td>9.25</td>\n",
       "      <td>2.22</td>\n",
       "      <td>False</td>\n",
       "    </tr>\n",
       "    <tr>\n",
       "      <th>1</th>\n",
       "      <td>671858</td>\n",
       "      <td>El Taco Loco</td>\n",
       "      <td>San Antonio</td>\n",
       "      <td>23-11-2024 17:11</td>\n",
       "      <td>23-11-2024 17:25</td>\n",
       "      <td>14</td>\n",
       "      <td>Regular</td>\n",
       "      <td>Beef Taco</td>\n",
       "      <td>1</td>\n",
       "      <td>6.20</td>\n",
       "      <td>4.25</td>\n",
       "      <td>3.01</td>\n",
       "      <td>True</td>\n",
       "    </tr>\n",
       "    <tr>\n",
       "      <th>2</th>\n",
       "      <td>688508</td>\n",
       "      <td>Taco Haven</td>\n",
       "      <td>Austin</td>\n",
       "      <td>21-11-2024 20:24</td>\n",
       "      <td>21-11-2024 21:02</td>\n",
       "      <td>38</td>\n",
       "      <td>Large</td>\n",
       "      <td>Pork Taco</td>\n",
       "      <td>2</td>\n",
       "      <td>20.33</td>\n",
       "      <td>7.00</td>\n",
       "      <td>0.02</td>\n",
       "      <td>False</td>\n",
       "    </tr>\n",
       "    <tr>\n",
       "      <th>3</th>\n",
       "      <td>944962</td>\n",
       "      <td>Spicy Taco House</td>\n",
       "      <td>Dallas</td>\n",
       "      <td>21-09-2024 06:43</td>\n",
       "      <td>21-09-2024 07:28</td>\n",
       "      <td>45</td>\n",
       "      <td>Regular</td>\n",
       "      <td>Chicken Taco</td>\n",
       "      <td>2</td>\n",
       "      <td>3.00</td>\n",
       "      <td>5.50</td>\n",
       "      <td>1.90</td>\n",
       "      <td>True</td>\n",
       "    </tr>\n",
       "    <tr>\n",
       "      <th>4</th>\n",
       "      <td>476417</td>\n",
       "      <td>Casa del Taco</td>\n",
       "      <td>San Antonio</td>\n",
       "      <td>24-07-2024 11:01</td>\n",
       "      <td>24-07-2024 11:16</td>\n",
       "      <td>15</td>\n",
       "      <td>Large</td>\n",
       "      <td>Pork Taco</td>\n",
       "      <td>0</td>\n",
       "      <td>24.34</td>\n",
       "      <td>4.50</td>\n",
       "      <td>1.14</td>\n",
       "      <td>False</td>\n",
       "    </tr>\n",
       "  </tbody>\n",
       "</table>\n",
       "</div>"
      ],
      "text/plain": [
       "   Order ID   Restaurant Name     Location        Order Time  \\\n",
       "0    770487      El Taco Loco     New York  01-08-2024 14:55   \n",
       "1    671858      El Taco Loco  San Antonio  23-11-2024 17:11   \n",
       "2    688508        Taco Haven       Austin  21-11-2024 20:24   \n",
       "3    944962  Spicy Taco House       Dallas  21-09-2024 06:43   \n",
       "4    476417     Casa del Taco  San Antonio  24-07-2024 11:01   \n",
       "\n",
       "      Delivery Time  Delivery Duration (min) Taco Size     Taco Type  \\\n",
       "0  01-08-2024 15:36                       41   Regular  Chicken Taco   \n",
       "1  23-11-2024 17:25                       14   Regular     Beef Taco   \n",
       "2  21-11-2024 21:02                       38     Large     Pork Taco   \n",
       "3  21-09-2024 07:28                       45   Regular  Chicken Taco   \n",
       "4  24-07-2024 11:16                       15     Large     Pork Taco   \n",
       "\n",
       "   Toppings Count  Distance (km)  Price ($)  Tip ($)  Weekend Order  \n",
       "0               5           3.01       9.25     2.22          False  \n",
       "1               1           6.20       4.25     3.01           True  \n",
       "2               2          20.33       7.00     0.02          False  \n",
       "3               2           3.00       5.50     1.90           True  \n",
       "4               0          24.34       4.50     1.14          False  "
      ]
     },
     "execution_count": 2044,
     "metadata": {},
     "output_type": "execute_result"
    }
   ],
   "source": [
    "df.head()"
   ]
  },
  {
   "cell_type": "code",
   "execution_count": 2045,
   "id": "11c8b58d",
   "metadata": {},
   "outputs": [
    {
     "data": {
      "text/plain": [
       "Index(['Order ID', 'Restaurant Name', 'Location', 'Order Time',\n",
       "       'Delivery Time', 'Delivery Duration (min)', 'Taco Size', 'Taco Type',\n",
       "       'Toppings Count', 'Distance (km)', 'Price ($)', 'Tip ($)',\n",
       "       'Weekend Order'],\n",
       "      dtype='object')"
      ]
     },
     "execution_count": 2045,
     "metadata": {},
     "output_type": "execute_result"
    }
   ],
   "source": [
    "df.columns"
   ]
  },
  {
   "cell_type": "code",
   "execution_count": 2046,
   "id": "b7e8b2f1",
   "metadata": {},
   "outputs": [
    {
     "data": {
      "text/html": [
       "<div>\n",
       "<style scoped>\n",
       "    .dataframe tbody tr th:only-of-type {\n",
       "        vertical-align: middle;\n",
       "    }\n",
       "\n",
       "    .dataframe tbody tr th {\n",
       "        vertical-align: top;\n",
       "    }\n",
       "\n",
       "    .dataframe thead th {\n",
       "        text-align: right;\n",
       "    }\n",
       "</style>\n",
       "<table border=\"1\" class=\"dataframe\">\n",
       "  <thead>\n",
       "    <tr style=\"text-align: right;\">\n",
       "      <th></th>\n",
       "      <th>Order ID</th>\n",
       "      <th>Restaurant Name</th>\n",
       "      <th>Location</th>\n",
       "      <th>Order Time</th>\n",
       "      <th>Delivery Time</th>\n",
       "      <th>Delivery Duration (min)</th>\n",
       "      <th>Taco Size</th>\n",
       "      <th>Taco Type</th>\n",
       "      <th>Toppings Count</th>\n",
       "      <th>Distance (km)</th>\n",
       "      <th>Price ($)</th>\n",
       "      <th>Tip ($)</th>\n",
       "      <th>Weekend Order</th>\n",
       "    </tr>\n",
       "  </thead>\n",
       "  <tbody>\n",
       "    <tr>\n",
       "      <th>0</th>\n",
       "      <td>770487</td>\n",
       "      <td>El Taco Loco</td>\n",
       "      <td>New York</td>\n",
       "      <td>01-08-2024 14:55</td>\n",
       "      <td>01-08-2024 15:36</td>\n",
       "      <td>41</td>\n",
       "      <td>Regular</td>\n",
       "      <td>Chicken Taco</td>\n",
       "      <td>5</td>\n",
       "      <td>3.01</td>\n",
       "      <td>9.25</td>\n",
       "      <td>2.22</td>\n",
       "      <td>False</td>\n",
       "    </tr>\n",
       "    <tr>\n",
       "      <th>1</th>\n",
       "      <td>671858</td>\n",
       "      <td>El Taco Loco</td>\n",
       "      <td>San Antonio</td>\n",
       "      <td>23-11-2024 17:11</td>\n",
       "      <td>23-11-2024 17:25</td>\n",
       "      <td>14</td>\n",
       "      <td>Regular</td>\n",
       "      <td>Beef Taco</td>\n",
       "      <td>1</td>\n",
       "      <td>6.20</td>\n",
       "      <td>4.25</td>\n",
       "      <td>3.01</td>\n",
       "      <td>True</td>\n",
       "    </tr>\n",
       "    <tr>\n",
       "      <th>2</th>\n",
       "      <td>688508</td>\n",
       "      <td>Taco Haven</td>\n",
       "      <td>Austin</td>\n",
       "      <td>21-11-2024 20:24</td>\n",
       "      <td>21-11-2024 21:02</td>\n",
       "      <td>38</td>\n",
       "      <td>Large</td>\n",
       "      <td>Pork Taco</td>\n",
       "      <td>2</td>\n",
       "      <td>20.33</td>\n",
       "      <td>7.00</td>\n",
       "      <td>0.02</td>\n",
       "      <td>False</td>\n",
       "    </tr>\n",
       "    <tr>\n",
       "      <th>3</th>\n",
       "      <td>944962</td>\n",
       "      <td>Spicy Taco House</td>\n",
       "      <td>Dallas</td>\n",
       "      <td>21-09-2024 06:43</td>\n",
       "      <td>21-09-2024 07:28</td>\n",
       "      <td>45</td>\n",
       "      <td>Regular</td>\n",
       "      <td>Chicken Taco</td>\n",
       "      <td>2</td>\n",
       "      <td>3.00</td>\n",
       "      <td>5.50</td>\n",
       "      <td>1.90</td>\n",
       "      <td>True</td>\n",
       "    </tr>\n",
       "    <tr>\n",
       "      <th>4</th>\n",
       "      <td>476417</td>\n",
       "      <td>Casa del Taco</td>\n",
       "      <td>San Antonio</td>\n",
       "      <td>24-07-2024 11:01</td>\n",
       "      <td>24-07-2024 11:16</td>\n",
       "      <td>15</td>\n",
       "      <td>Large</td>\n",
       "      <td>Pork Taco</td>\n",
       "      <td>0</td>\n",
       "      <td>24.34</td>\n",
       "      <td>4.50</td>\n",
       "      <td>1.14</td>\n",
       "      <td>False</td>\n",
       "    </tr>\n",
       "  </tbody>\n",
       "</table>\n",
       "</div>"
      ],
      "text/plain": [
       "   Order ID   Restaurant Name     Location        Order Time  \\\n",
       "0    770487      El Taco Loco     New York  01-08-2024 14:55   \n",
       "1    671858      El Taco Loco  San Antonio  23-11-2024 17:11   \n",
       "2    688508        Taco Haven       Austin  21-11-2024 20:24   \n",
       "3    944962  Spicy Taco House       Dallas  21-09-2024 06:43   \n",
       "4    476417     Casa del Taco  San Antonio  24-07-2024 11:01   \n",
       "\n",
       "      Delivery Time  Delivery Duration (min) Taco Size     Taco Type  \\\n",
       "0  01-08-2024 15:36                       41   Regular  Chicken Taco   \n",
       "1  23-11-2024 17:25                       14   Regular     Beef Taco   \n",
       "2  21-11-2024 21:02                       38     Large     Pork Taco   \n",
       "3  21-09-2024 07:28                       45   Regular  Chicken Taco   \n",
       "4  24-07-2024 11:16                       15     Large     Pork Taco   \n",
       "\n",
       "   Toppings Count  Distance (km)  Price ($)  Tip ($)  Weekend Order  \n",
       "0               5           3.01       9.25     2.22          False  \n",
       "1               1           6.20       4.25     3.01           True  \n",
       "2               2          20.33       7.00     0.02          False  \n",
       "3               2           3.00       5.50     1.90           True  \n",
       "4               0          24.34       4.50     1.14          False  "
      ]
     },
     "execution_count": 2046,
     "metadata": {},
     "output_type": "execute_result"
    }
   ],
   "source": [
    "df.head()"
   ]
  },
  {
   "cell_type": "code",
   "execution_count": 2047,
   "id": "88f1641d",
   "metadata": {},
   "outputs": [],
   "source": [
    "# Ensure Delivery Time is a string (if not already)\n",
    "df[\"Delivery Time\"] = df[\"Delivery Time\"].astype(str)\n",
    "\n",
    "# Split Delivery Time into date and time\n",
    "df[[\"Delivery Date\", \"Delivery Clock Time\"]] = df[\"Delivery Time\"].str.split(\" \", expand=True)"
   ]
  },
  {
   "cell_type": "code",
   "execution_count": 2048,
   "id": "fc8f6223",
   "metadata": {},
   "outputs": [],
   "source": [
    "df.drop(columns=[\"Delivery Time\",\"Order ID\"],inplace=True) # Removing column for better readability"
   ]
  },
  {
   "cell_type": "code",
   "execution_count": 2049,
   "id": "951c0050",
   "metadata": {},
   "outputs": [
    {
     "name": "stdout",
     "output_type": "stream",
     "text": [
      "<class 'pandas.core.frame.DataFrame'>\n",
      "RangeIndex: 1000 entries, 0 to 999\n",
      "Data columns (total 13 columns):\n",
      " #   Column                   Non-Null Count  Dtype  \n",
      "---  ------                   --------------  -----  \n",
      " 0   Restaurant Name          1000 non-null   object \n",
      " 1   Location                 1000 non-null   object \n",
      " 2   Order Time               1000 non-null   object \n",
      " 3   Delivery Duration (min)  1000 non-null   int64  \n",
      " 4   Taco Size                1000 non-null   object \n",
      " 5   Taco Type                1000 non-null   object \n",
      " 6   Toppings Count           1000 non-null   int64  \n",
      " 7   Distance (km)            1000 non-null   float64\n",
      " 8   Price ($)                1000 non-null   float64\n",
      " 9   Tip ($)                  1000 non-null   float64\n",
      " 10  Weekend Order            1000 non-null   bool   \n",
      " 11  Delivery Date            1000 non-null   object \n",
      " 12  Delivery Clock Time      1000 non-null   object \n",
      "dtypes: bool(1), float64(3), int64(2), object(7)\n",
      "memory usage: 94.9+ KB\n"
     ]
    }
   ],
   "source": [
    "df.info()"
   ]
  },
  {
   "cell_type": "code",
   "execution_count": 2050,
   "id": "2bbbc0b2",
   "metadata": {},
   "outputs": [
    {
     "data": {
      "text/plain": [
       "(1000, 13)"
      ]
     },
     "execution_count": 2050,
     "metadata": {},
     "output_type": "execute_result"
    }
   ],
   "source": [
    "df.shape"
   ]
  },
  {
   "cell_type": "markdown",
   "id": "b324f631",
   "metadata": {},
   "source": [
    "## EDA & Visualization"
   ]
  },
  {
   "cell_type": "markdown",
   "id": "1aa7ad87",
   "metadata": {},
   "source": [
    "### Which Restaurant has the highest weekend order rate"
   ]
  },
  {
   "cell_type": "code",
   "execution_count": 2051,
   "id": "4fd8e4f1",
   "metadata": {},
   "outputs": [
    {
     "data": {
      "text/html": [
       "<div>\n",
       "<style scoped>\n",
       "    .dataframe tbody tr th:only-of-type {\n",
       "        vertical-align: middle;\n",
       "    }\n",
       "\n",
       "    .dataframe tbody tr th {\n",
       "        vertical-align: top;\n",
       "    }\n",
       "\n",
       "    .dataframe thead th {\n",
       "        text-align: right;\n",
       "    }\n",
       "</style>\n",
       "<table border=\"1\" class=\"dataframe\">\n",
       "  <thead>\n",
       "    <tr style=\"text-align: right;\">\n",
       "      <th></th>\n",
       "      <th>Restaurant Name</th>\n",
       "      <th>Weekend Order</th>\n",
       "      <th>Count</th>\n",
       "    </tr>\n",
       "  </thead>\n",
       "  <tbody>\n",
       "    <tr>\n",
       "      <th>0</th>\n",
       "      <td>Casa del Taco</td>\n",
       "      <td>False</td>\n",
       "      <td>76</td>\n",
       "    </tr>\n",
       "    <tr>\n",
       "      <th>1</th>\n",
       "      <td>Casa del Taco</td>\n",
       "      <td>True</td>\n",
       "      <td>28</td>\n",
       "    </tr>\n",
       "    <tr>\n",
       "      <th>2</th>\n",
       "      <td>El Taco Loco</td>\n",
       "      <td>False</td>\n",
       "      <td>59</td>\n",
       "    </tr>\n",
       "    <tr>\n",
       "      <th>3</th>\n",
       "      <td>El Taco Loco</td>\n",
       "      <td>True</td>\n",
       "      <td>26</td>\n",
       "    </tr>\n",
       "    <tr>\n",
       "      <th>4</th>\n",
       "      <td>Grande Tacos</td>\n",
       "      <td>False</td>\n",
       "      <td>67</td>\n",
       "    </tr>\n",
       "    <tr>\n",
       "      <th>5</th>\n",
       "      <td>Grande Tacos</td>\n",
       "      <td>True</td>\n",
       "      <td>39</td>\n",
       "    </tr>\n",
       "    <tr>\n",
       "      <th>6</th>\n",
       "      <td>La Vida Taco</td>\n",
       "      <td>False</td>\n",
       "      <td>68</td>\n",
       "    </tr>\n",
       "    <tr>\n",
       "      <th>7</th>\n",
       "      <td>La Vida Taco</td>\n",
       "      <td>True</td>\n",
       "      <td>30</td>\n",
       "    </tr>\n",
       "    <tr>\n",
       "      <th>8</th>\n",
       "      <td>Spicy Taco House</td>\n",
       "      <td>False</td>\n",
       "      <td>82</td>\n",
       "    </tr>\n",
       "    <tr>\n",
       "      <th>9</th>\n",
       "      <td>Spicy Taco House</td>\n",
       "      <td>True</td>\n",
       "      <td>18</td>\n",
       "    </tr>\n",
       "    <tr>\n",
       "      <th>10</th>\n",
       "      <td>Taco Fiesta</td>\n",
       "      <td>False</td>\n",
       "      <td>74</td>\n",
       "    </tr>\n",
       "    <tr>\n",
       "      <th>11</th>\n",
       "      <td>Taco Fiesta</td>\n",
       "      <td>True</td>\n",
       "      <td>25</td>\n",
       "    </tr>\n",
       "    <tr>\n",
       "      <th>12</th>\n",
       "      <td>Taco Haven</td>\n",
       "      <td>False</td>\n",
       "      <td>69</td>\n",
       "    </tr>\n",
       "    <tr>\n",
       "      <th>13</th>\n",
       "      <td>Taco Haven</td>\n",
       "      <td>True</td>\n",
       "      <td>26</td>\n",
       "    </tr>\n",
       "    <tr>\n",
       "      <th>14</th>\n",
       "      <td>Taco Time Express</td>\n",
       "      <td>False</td>\n",
       "      <td>66</td>\n",
       "    </tr>\n",
       "    <tr>\n",
       "      <th>15</th>\n",
       "      <td>Taco Time Express</td>\n",
       "      <td>True</td>\n",
       "      <td>25</td>\n",
       "    </tr>\n",
       "    <tr>\n",
       "      <th>16</th>\n",
       "      <td>The Taco Stand</td>\n",
       "      <td>False</td>\n",
       "      <td>77</td>\n",
       "    </tr>\n",
       "    <tr>\n",
       "      <th>17</th>\n",
       "      <td>The Taco Stand</td>\n",
       "      <td>True</td>\n",
       "      <td>28</td>\n",
       "    </tr>\n",
       "    <tr>\n",
       "      <th>18</th>\n",
       "      <td>Urban Tacos</td>\n",
       "      <td>False</td>\n",
       "      <td>87</td>\n",
       "    </tr>\n",
       "    <tr>\n",
       "      <th>19</th>\n",
       "      <td>Urban Tacos</td>\n",
       "      <td>True</td>\n",
       "      <td>30</td>\n",
       "    </tr>\n",
       "  </tbody>\n",
       "</table>\n",
       "</div>"
      ],
      "text/plain": [
       "      Restaurant Name  Weekend Order  Count\n",
       "0       Casa del Taco          False     76\n",
       "1       Casa del Taco           True     28\n",
       "2        El Taco Loco          False     59\n",
       "3        El Taco Loco           True     26\n",
       "4        Grande Tacos          False     67\n",
       "5        Grande Tacos           True     39\n",
       "6        La Vida Taco          False     68\n",
       "7        La Vida Taco           True     30\n",
       "8    Spicy Taco House          False     82\n",
       "9    Spicy Taco House           True     18\n",
       "10        Taco Fiesta          False     74\n",
       "11        Taco Fiesta           True     25\n",
       "12         Taco Haven          False     69\n",
       "13         Taco Haven           True     26\n",
       "14  Taco Time Express          False     66\n",
       "15  Taco Time Express           True     25\n",
       "16     The Taco Stand          False     77\n",
       "17     The Taco Stand           True     28\n",
       "18        Urban Tacos          False     87\n",
       "19        Urban Tacos           True     30"
      ]
     },
     "execution_count": 2051,
     "metadata": {},
     "output_type": "execute_result"
    }
   ],
   "source": [
    "classifi_or = df.groupby([\"Restaurant Name\", \"Weekend Order\"]).size().reset_index(name=\"Count\")\n",
    "classifi_or"
   ]
  },
  {
   "cell_type": "code",
   "execution_count": 2052,
   "id": "0f3d1318",
   "metadata": {},
   "outputs": [
    {
     "data": {
      "application/vnd.plotly.v1+json": {
       "config": {
        "plotlyServerURL": "https://plot.ly"
       },
       "data": [
        {
         "hovertemplate": "Weekend Order=False<br>Restaurant Name=%{x}<br>Count=%{y}<extra></extra>",
         "legendgroup": "False",
         "marker": {
          "color": "#636efa",
          "pattern": {
           "shape": ""
          }
         },
         "name": "False",
         "orientation": "v",
         "showlegend": true,
         "textposition": "auto",
         "type": "bar",
         "x": [
          "Casa del Taco",
          "El Taco Loco",
          "Grande Tacos",
          "La Vida Taco",
          "Spicy Taco House",
          "Taco Fiesta",
          "Taco Haven",
          "Taco Time Express",
          "The Taco Stand",
          "Urban Tacos"
         ],
         "xaxis": "x",
         "y": {
          "bdata": "TDtDRFJKRUJNVw==",
          "dtype": "i1"
         },
         "yaxis": "y"
        },
        {
         "hovertemplate": "Weekend Order=True<br>Restaurant Name=%{x}<br>Count=%{y}<extra></extra>",
         "legendgroup": "True",
         "marker": {
          "color": "#EF553B",
          "pattern": {
           "shape": ""
          }
         },
         "name": "True",
         "orientation": "v",
         "showlegend": true,
         "textposition": "auto",
         "type": "bar",
         "x": [
          "Casa del Taco",
          "El Taco Loco",
          "Grande Tacos",
          "La Vida Taco",
          "Spicy Taco House",
          "Taco Fiesta",
          "Taco Haven",
          "Taco Time Express",
          "The Taco Stand",
          "Urban Tacos"
         ],
         "xaxis": "x",
         "y": {
          "bdata": "HBonHhIZGhkcHg==",
          "dtype": "i1"
         },
         "yaxis": "y"
        }
       ],
       "layout": {
        "barmode": "relative",
        "legend": {
         "title": {
          "text": "Weekend Order"
         },
         "tracegroupgap": 0
        },
        "margin": {
         "t": 60
        },
        "template": {
         "data": {
          "bar": [
           {
            "error_x": {
             "color": "#2a3f5f"
            },
            "error_y": {
             "color": "#2a3f5f"
            },
            "marker": {
             "line": {
              "color": "#E5ECF6",
              "width": 0.5
             },
             "pattern": {
              "fillmode": "overlay",
              "size": 10,
              "solidity": 0.2
             }
            },
            "type": "bar"
           }
          ],
          "barpolar": [
           {
            "marker": {
             "line": {
              "color": "#E5ECF6",
              "width": 0.5
             },
             "pattern": {
              "fillmode": "overlay",
              "size": 10,
              "solidity": 0.2
             }
            },
            "type": "barpolar"
           }
          ],
          "carpet": [
           {
            "aaxis": {
             "endlinecolor": "#2a3f5f",
             "gridcolor": "white",
             "linecolor": "white",
             "minorgridcolor": "white",
             "startlinecolor": "#2a3f5f"
            },
            "baxis": {
             "endlinecolor": "#2a3f5f",
             "gridcolor": "white",
             "linecolor": "white",
             "minorgridcolor": "white",
             "startlinecolor": "#2a3f5f"
            },
            "type": "carpet"
           }
          ],
          "choropleth": [
           {
            "colorbar": {
             "outlinewidth": 0,
             "ticks": ""
            },
            "type": "choropleth"
           }
          ],
          "contour": [
           {
            "colorbar": {
             "outlinewidth": 0,
             "ticks": ""
            },
            "colorscale": [
             [
              0,
              "#0d0887"
             ],
             [
              0.1111111111111111,
              "#46039f"
             ],
             [
              0.2222222222222222,
              "#7201a8"
             ],
             [
              0.3333333333333333,
              "#9c179e"
             ],
             [
              0.4444444444444444,
              "#bd3786"
             ],
             [
              0.5555555555555556,
              "#d8576b"
             ],
             [
              0.6666666666666666,
              "#ed7953"
             ],
             [
              0.7777777777777778,
              "#fb9f3a"
             ],
             [
              0.8888888888888888,
              "#fdca26"
             ],
             [
              1,
              "#f0f921"
             ]
            ],
            "type": "contour"
           }
          ],
          "contourcarpet": [
           {
            "colorbar": {
             "outlinewidth": 0,
             "ticks": ""
            },
            "type": "contourcarpet"
           }
          ],
          "heatmap": [
           {
            "colorbar": {
             "outlinewidth": 0,
             "ticks": ""
            },
            "colorscale": [
             [
              0,
              "#0d0887"
             ],
             [
              0.1111111111111111,
              "#46039f"
             ],
             [
              0.2222222222222222,
              "#7201a8"
             ],
             [
              0.3333333333333333,
              "#9c179e"
             ],
             [
              0.4444444444444444,
              "#bd3786"
             ],
             [
              0.5555555555555556,
              "#d8576b"
             ],
             [
              0.6666666666666666,
              "#ed7953"
             ],
             [
              0.7777777777777778,
              "#fb9f3a"
             ],
             [
              0.8888888888888888,
              "#fdca26"
             ],
             [
              1,
              "#f0f921"
             ]
            ],
            "type": "heatmap"
           }
          ],
          "histogram": [
           {
            "marker": {
             "pattern": {
              "fillmode": "overlay",
              "size": 10,
              "solidity": 0.2
             }
            },
            "type": "histogram"
           }
          ],
          "histogram2d": [
           {
            "colorbar": {
             "outlinewidth": 0,
             "ticks": ""
            },
            "colorscale": [
             [
              0,
              "#0d0887"
             ],
             [
              0.1111111111111111,
              "#46039f"
             ],
             [
              0.2222222222222222,
              "#7201a8"
             ],
             [
              0.3333333333333333,
              "#9c179e"
             ],
             [
              0.4444444444444444,
              "#bd3786"
             ],
             [
              0.5555555555555556,
              "#d8576b"
             ],
             [
              0.6666666666666666,
              "#ed7953"
             ],
             [
              0.7777777777777778,
              "#fb9f3a"
             ],
             [
              0.8888888888888888,
              "#fdca26"
             ],
             [
              1,
              "#f0f921"
             ]
            ],
            "type": "histogram2d"
           }
          ],
          "histogram2dcontour": [
           {
            "colorbar": {
             "outlinewidth": 0,
             "ticks": ""
            },
            "colorscale": [
             [
              0,
              "#0d0887"
             ],
             [
              0.1111111111111111,
              "#46039f"
             ],
             [
              0.2222222222222222,
              "#7201a8"
             ],
             [
              0.3333333333333333,
              "#9c179e"
             ],
             [
              0.4444444444444444,
              "#bd3786"
             ],
             [
              0.5555555555555556,
              "#d8576b"
             ],
             [
              0.6666666666666666,
              "#ed7953"
             ],
             [
              0.7777777777777778,
              "#fb9f3a"
             ],
             [
              0.8888888888888888,
              "#fdca26"
             ],
             [
              1,
              "#f0f921"
             ]
            ],
            "type": "histogram2dcontour"
           }
          ],
          "mesh3d": [
           {
            "colorbar": {
             "outlinewidth": 0,
             "ticks": ""
            },
            "type": "mesh3d"
           }
          ],
          "parcoords": [
           {
            "line": {
             "colorbar": {
              "outlinewidth": 0,
              "ticks": ""
             }
            },
            "type": "parcoords"
           }
          ],
          "pie": [
           {
            "automargin": true,
            "type": "pie"
           }
          ],
          "scatter": [
           {
            "fillpattern": {
             "fillmode": "overlay",
             "size": 10,
             "solidity": 0.2
            },
            "type": "scatter"
           }
          ],
          "scatter3d": [
           {
            "line": {
             "colorbar": {
              "outlinewidth": 0,
              "ticks": ""
             }
            },
            "marker": {
             "colorbar": {
              "outlinewidth": 0,
              "ticks": ""
             }
            },
            "type": "scatter3d"
           }
          ],
          "scattercarpet": [
           {
            "marker": {
             "colorbar": {
              "outlinewidth": 0,
              "ticks": ""
             }
            },
            "type": "scattercarpet"
           }
          ],
          "scattergeo": [
           {
            "marker": {
             "colorbar": {
              "outlinewidth": 0,
              "ticks": ""
             }
            },
            "type": "scattergeo"
           }
          ],
          "scattergl": [
           {
            "marker": {
             "colorbar": {
              "outlinewidth": 0,
              "ticks": ""
             }
            },
            "type": "scattergl"
           }
          ],
          "scattermap": [
           {
            "marker": {
             "colorbar": {
              "outlinewidth": 0,
              "ticks": ""
             }
            },
            "type": "scattermap"
           }
          ],
          "scattermapbox": [
           {
            "marker": {
             "colorbar": {
              "outlinewidth": 0,
              "ticks": ""
             }
            },
            "type": "scattermapbox"
           }
          ],
          "scatterpolar": [
           {
            "marker": {
             "colorbar": {
              "outlinewidth": 0,
              "ticks": ""
             }
            },
            "type": "scatterpolar"
           }
          ],
          "scatterpolargl": [
           {
            "marker": {
             "colorbar": {
              "outlinewidth": 0,
              "ticks": ""
             }
            },
            "type": "scatterpolargl"
           }
          ],
          "scatterternary": [
           {
            "marker": {
             "colorbar": {
              "outlinewidth": 0,
              "ticks": ""
             }
            },
            "type": "scatterternary"
           }
          ],
          "surface": [
           {
            "colorbar": {
             "outlinewidth": 0,
             "ticks": ""
            },
            "colorscale": [
             [
              0,
              "#0d0887"
             ],
             [
              0.1111111111111111,
              "#46039f"
             ],
             [
              0.2222222222222222,
              "#7201a8"
             ],
             [
              0.3333333333333333,
              "#9c179e"
             ],
             [
              0.4444444444444444,
              "#bd3786"
             ],
             [
              0.5555555555555556,
              "#d8576b"
             ],
             [
              0.6666666666666666,
              "#ed7953"
             ],
             [
              0.7777777777777778,
              "#fb9f3a"
             ],
             [
              0.8888888888888888,
              "#fdca26"
             ],
             [
              1,
              "#f0f921"
             ]
            ],
            "type": "surface"
           }
          ],
          "table": [
           {
            "cells": {
             "fill": {
              "color": "#EBF0F8"
             },
             "line": {
              "color": "white"
             }
            },
            "header": {
             "fill": {
              "color": "#C8D4E3"
             },
             "line": {
              "color": "white"
             }
            },
            "type": "table"
           }
          ]
         },
         "layout": {
          "annotationdefaults": {
           "arrowcolor": "#2a3f5f",
           "arrowhead": 0,
           "arrowwidth": 1
          },
          "autotypenumbers": "strict",
          "coloraxis": {
           "colorbar": {
            "outlinewidth": 0,
            "ticks": ""
           }
          },
          "colorscale": {
           "diverging": [
            [
             0,
             "#8e0152"
            ],
            [
             0.1,
             "#c51b7d"
            ],
            [
             0.2,
             "#de77ae"
            ],
            [
             0.3,
             "#f1b6da"
            ],
            [
             0.4,
             "#fde0ef"
            ],
            [
             0.5,
             "#f7f7f7"
            ],
            [
             0.6,
             "#e6f5d0"
            ],
            [
             0.7,
             "#b8e186"
            ],
            [
             0.8,
             "#7fbc41"
            ],
            [
             0.9,
             "#4d9221"
            ],
            [
             1,
             "#276419"
            ]
           ],
           "sequential": [
            [
             0,
             "#0d0887"
            ],
            [
             0.1111111111111111,
             "#46039f"
            ],
            [
             0.2222222222222222,
             "#7201a8"
            ],
            [
             0.3333333333333333,
             "#9c179e"
            ],
            [
             0.4444444444444444,
             "#bd3786"
            ],
            [
             0.5555555555555556,
             "#d8576b"
            ],
            [
             0.6666666666666666,
             "#ed7953"
            ],
            [
             0.7777777777777778,
             "#fb9f3a"
            ],
            [
             0.8888888888888888,
             "#fdca26"
            ],
            [
             1,
             "#f0f921"
            ]
           ],
           "sequentialminus": [
            [
             0,
             "#0d0887"
            ],
            [
             0.1111111111111111,
             "#46039f"
            ],
            [
             0.2222222222222222,
             "#7201a8"
            ],
            [
             0.3333333333333333,
             "#9c179e"
            ],
            [
             0.4444444444444444,
             "#bd3786"
            ],
            [
             0.5555555555555556,
             "#d8576b"
            ],
            [
             0.6666666666666666,
             "#ed7953"
            ],
            [
             0.7777777777777778,
             "#fb9f3a"
            ],
            [
             0.8888888888888888,
             "#fdca26"
            ],
            [
             1,
             "#f0f921"
            ]
           ]
          },
          "colorway": [
           "#636efa",
           "#EF553B",
           "#00cc96",
           "#ab63fa",
           "#FFA15A",
           "#19d3f3",
           "#FF6692",
           "#B6E880",
           "#FF97FF",
           "#FECB52"
          ],
          "font": {
           "color": "#2a3f5f"
          },
          "geo": {
           "bgcolor": "white",
           "lakecolor": "white",
           "landcolor": "#E5ECF6",
           "showlakes": true,
           "showland": true,
           "subunitcolor": "white"
          },
          "hoverlabel": {
           "align": "left"
          },
          "hovermode": "closest",
          "mapbox": {
           "style": "light"
          },
          "paper_bgcolor": "white",
          "plot_bgcolor": "#E5ECF6",
          "polar": {
           "angularaxis": {
            "gridcolor": "white",
            "linecolor": "white",
            "ticks": ""
           },
           "bgcolor": "#E5ECF6",
           "radialaxis": {
            "gridcolor": "white",
            "linecolor": "white",
            "ticks": ""
           }
          },
          "scene": {
           "xaxis": {
            "backgroundcolor": "#E5ECF6",
            "gridcolor": "white",
            "gridwidth": 2,
            "linecolor": "white",
            "showbackground": true,
            "ticks": "",
            "zerolinecolor": "white"
           },
           "yaxis": {
            "backgroundcolor": "#E5ECF6",
            "gridcolor": "white",
            "gridwidth": 2,
            "linecolor": "white",
            "showbackground": true,
            "ticks": "",
            "zerolinecolor": "white"
           },
           "zaxis": {
            "backgroundcolor": "#E5ECF6",
            "gridcolor": "white",
            "gridwidth": 2,
            "linecolor": "white",
            "showbackground": true,
            "ticks": "",
            "zerolinecolor": "white"
           }
          },
          "shapedefaults": {
           "line": {
            "color": "#2a3f5f"
           }
          },
          "ternary": {
           "aaxis": {
            "gridcolor": "white",
            "linecolor": "white",
            "ticks": ""
           },
           "baxis": {
            "gridcolor": "white",
            "linecolor": "white",
            "ticks": ""
           },
           "bgcolor": "#E5ECF6",
           "caxis": {
            "gridcolor": "white",
            "linecolor": "white",
            "ticks": ""
           }
          },
          "title": {
           "x": 0.05
          },
          "xaxis": {
           "automargin": true,
           "gridcolor": "white",
           "linecolor": "white",
           "ticks": "",
           "title": {
            "standoff": 15
           },
           "zerolinecolor": "white",
           "zerolinewidth": 2
          },
          "yaxis": {
           "automargin": true,
           "gridcolor": "white",
           "linecolor": "white",
           "ticks": "",
           "title": {
            "standoff": 15
           },
           "zerolinecolor": "white",
           "zerolinewidth": 2
          }
         }
        },
        "xaxis": {
         "anchor": "y",
         "domain": [
          0,
          1
         ],
         "title": {
          "text": "Restaurant Name"
         }
        },
        "yaxis": {
         "anchor": "x",
         "domain": [
          0,
          1
         ],
         "title": {
          "text": "Count"
         }
        }
       }
      }
     },
     "metadata": {},
     "output_type": "display_data"
    }
   ],
   "source": [
    "fig = px.bar(classifi_or, x=\"Restaurant Name\", y=\"Count\", color=\"Weekend Order\")\n",
    "fig.show()"
   ]
  },
  {
   "cell_type": "markdown",
   "id": "94e65978",
   "metadata": {},
   "source": [
    "### Difference between order time and delivery time & duration"
   ]
  },
  {
   "cell_type": "code",
   "execution_count": 2053,
   "id": "62b2091e",
   "metadata": {},
   "outputs": [
    {
     "data": {
      "application/vnd.plotly.v1+json": {
       "config": {
        "plotlyServerURL": "https://plot.ly"
       },
       "data": [
        {
         "hovertemplate": "Order Time=%{x}<br>Delivery Clock Time=%{y}<br>Delivery Duration (min)=%{marker.color}<extra></extra>",
         "legendgroup": "",
         "marker": {
          "color": {
           "bdata": "KQ4mLQ9TLR8RSUAdCwojSFJGPVA0RkVOEDodEBIUPFIuMFcVUDkpIBcmSw47QT5SM0spPSBRRigbTzpXRUA6JhpXI1JITClJUUhGJ0c4GipSTBETLhguQichPjI+LDEdUDVOUx1EWQ4WORQqQjstVw8gRzg5EhYdQi00JyAgOA0zTUEyFjdHQDYlFEhVMDoMPRcfHEkyNxUiSjg0FDFAGzUPTi4QHj8yQxgYCk0SN0Q8GUlPHxFCVzxRGVAmRT5QMCMdDzA/GhxTFUk4SjxKV0oxEA5YMiIyTzYbJx4RDlJFNTMrKxk5FCMVMTYhGzAtEkJTJkkwURRXJFc3OVQ1Two5TiA8DklSIB42MzodFxU7MDgwVjJSLzo4PVMNNTAgQSUzWFU7H0hCJlMlNlpOSxxDVDwaHi1aGkcbHxUtTBg7EloUVUEbGloqKT8ZMSkdOhVKKyNOVzBFOUI8Q0dPM00RVSIMETkyOg4cCzsWDBUeLjgNRkMWTDxDWlE/FkY0MTM5DS1IDSwgNhcwMBsiHxVURhsUJEBNF0w9HxAZFi4+ChYPHyEfVRpNNklQQ1BERi9YP0kgV1dZM0AeN0sLTxk0Ux4vQyoPWk4TQ1QuPFEkWFA3NDJHLVpPShsmO1Q6Sh5HUyFDSzoWRzlTPgpUUBs1QUwjDj1UKypVPjVJN09LDgsrPywgMEYMTlhYPAw8FC5FRBU2QTxAIkgsPywZJBlBVDUnN1ISISJMDhNREylAQldDClEnIBFaJhUQURM2QhgYTE1FLxVNMCYnGkEcFydXDiBXDg9FQz4qTVIuST5RV1Y6PldYIj4SUhtMN1c+IEoWDzEdNjEQMRUmSFcTR09VFwoyCxg6P0EhV1McE0YwLi0gVjYnOixVEiIZISogHBM7QU41OyJDTAwWVlMcFlUsWFkiEBAzFkE3RVhVVEooKEQTJDskM0gSLU8MTUcuDzZJL0c3DDIuQhUVI0kuEksQEzhITTENGiMwFVJOQjIUUAs9J0ZJOiMOIEg6DSkMRjUTVDY9U0EyPVEtElMoHE5GUEIkFCsQFDIUDEBBOj5EQFYPTUEyHUkZVBYzChAqHRZANS9MQBQ/IQwwDTAMC0hNSUI7RyhKKxBKSj84RDVaLT0uT1pENilAOUBEORk/NlcVFVFKVEFPETNLPhpPRTYVMlYgDQsiLVISDD4tJkE1FhoQRDRLEU8cI1QKPUIrG006TkhLRiMqSzpLIxsLTEI3VVM0DRIaQSNSPFISM0UbRjwlMSgWIiBZTiAnWQ4/KRJQQBRHUBM5VSopVxVAFR8fUkJUDzU6V0Y4QEpDDU41Kzk7JkQxEQ==",
           "dtype": "i1"
          },
          "coloraxis": "coloraxis",
          "symbol": "circle"
         },
         "mode": "markers",
         "name": "",
         "orientation": "v",
         "showlegend": false,
         "type": "scatter",
         "x": [
          "01-08-2024 14:55",
          "23-11-2024 17:11",
          "21-11-2024 20:24",
          "21-09-2024 06:43",
          "24-07-2024 11:01",
          "07-10-2024 21:21",
          "22-10-2024 06:03",
          "08-05-2025 04:51",
          "08-09-2024 21:04",
          "24-05-2025 02:15",
          "30-03-2025 01:28",
          "26-03-2024 04:00",
          "05-03-2025 16:52",
          "18-12-2024 10:01",
          "18-04-2025 00:01",
          "08-09-2024 18:42",
          "06-07-2024 02:10",
          "09-04-2024 17:23",
          "30-08-2024 02:48",
          "01-04-2025 22:52",
          "25-01-2024 09:34",
          "23-03-2025 13:21",
          "15-11-2024 07:30",
          "27-05-2024 17:45",
          "17-03-2024 01:09",
          "07-05-2024 21:03",
          "13-01-2025 00:12",
          "14-02-2024 09:38",
          "07-04-2025 04:15",
          "26-04-2025 02:06",
          "25-07-2024 07:24",
          "27-04-2025 11:14",
          "14-10-2024 00:29",
          "06-03-2025 18:32",
          "06-08-2024 20:19",
          "09-02-2024 10:57",
          "09-12-2024 04:24",
          "28-01-2024 23:36",
          "12-06-2024 04:06",
          "06-05-2024 05:15",
          "03-05-2024 15:39",
          "25-06-2024 18:41",
          "13-05-2025 06:05",
          "25-07-2024 04:39",
          "30-03-2024 19:47",
          "09-10-2024 21:34",
          "28-08-2024 05:29",
          "23-04-2025 02:01",
          "16-04-2025 04:59",
          "08-08-2024 10:09",
          "05-02-2024 21:29",
          "18-01-2025 23:51",
          "18-06-2024 23:29",
          "16-02-2025 13:00",
          "03-05-2024 14:55",
          "01-05-2025 19:26",
          "03-03-2024 14:04",
          "14-09-2024 00:04",
          "23-03-2025 03:38",
          "28-02-2025 04:38",
          "08-05-2024 04:39",
          "14-05-2025 05:43",
          "19-09-2024 03:27",
          "28-09-2024 19:44",
          "04-07-2024 06:48",
          "15-04-2025 14:39",
          "04-11-2024 02:10",
          "04-04-2024 00:37",
          "22-11-2024 06:27",
          "16-05-2024 19:25",
          "07-09-2024 08:11",
          "23-01-2024 07:00",
          "02-08-2024 14:01",
          "04-01-2025 19:01",
          "13-10-2024 15:02",
          "14-07-2024 06:30",
          "17-06-2024 01:42",
          "25-06-2024 16:35",
          "14-08-2024 21:49",
          "09-02-2024 21:43",
          "25-04-2024 21:14",
          "24-06-2024 07:06",
          "27-04-2025 08:47",
          "04-03-2025 17:52",
          "11-08-2024 18:39",
          "26-11-2024 05:09",
          "18-03-2025 02:47",
          "18-01-2025 13:00",
          "11-03-2024 22:27",
          "04-08-2024 01:12",
          "13-09-2024 03:59",
          "09-03-2024 09:33",
          "24-12-2024 19:51",
          "07-06-2024 02:36",
          "03-05-2024 00:22",
          "18-05-2025 02:11",
          "20-12-2024 19:07",
          "18-11-2024 07:05",
          "12-12-2024 20:14",
          "04-07-2024 11:39",
          "21-05-2025 10:30",
          "12-02-2025 12:26",
          "19-09-2024 23:14",
          "24-02-2025 05:16",
          "17-03-2024 11:06",
          "05-10-2024 10:14",
          "15-05-2024 23:31",
          "10-05-2025 11:24",
          "27-02-2024 08:53",
          "03-06-2024 17:40",
          "03-11-2024 10:21",
          "27-06-2024 17:43",
          "02-05-2025 08:40",
          "18-11-2024 17:32",
          "18-07-2024 14:16",
          "08-03-2025 21:03",
          "22-10-2024 22:49",
          "20-06-2024 22:35",
          "31-03-2024 04:38",
          "01-04-2025 04:49",
          "17-06-2024 18:12",
          "05-11-2024 05:51",
          "09-02-2024 06:51",
          "16-06-2024 17:37",
          "13-07-2024 16:31",
          "13-01-2024 06:10",
          "14-12-2024 04:27",
          "21-12-2024 18:31",
          "03-03-2024 18:02",
          "09-04-2025 00:11",
          "16-06-2024 00:19",
          "27-11-2024 11:27",
          "01-12-2024 10:45",
          "15-11-2024 02:01",
          "30-04-2024 04:22",
          "24-06-2024 15:54",
          "20-09-2024 22:47",
          "16-02-2025 00:54",
          "08-04-2025 02:25",
          "25-11-2024 08:12",
          "08-08-2024 00:05",
          "07-06-2024 18:43",
          "10-04-2024 08:11",
          "04-12-2024 19:43",
          "30-03-2024 10:59",
          "05-12-2024 04:53",
          "15-09-2024 16:50",
          "16-05-2025 07:55",
          "02-05-2025 17:48",
          "02-05-2025 04:10",
          "13-02-2024 15:07",
          "15-05-2025 17:27",
          "21-05-2025 07:07",
          "06-03-2024 12:00",
          "03-05-2024 07:14",
          "21-02-2024 04:41",
          "15-09-2024 22:19",
          "06-03-2024 19:16",
          "16-05-2025 18:46",
          "24-06-2024 23:04",
          "30-01-2024 07:39",
          "05-12-2024 22:49",
          "30-06-2024 18:07",
          "24-12-2024 14:20",
          "13-07-2024 04:23",
          "06-03-2024 03:32",
          "21-01-2024 17:10",
          "22-01-2024 21:27",
          "30-12-2024 08:50",
          "24-11-2024 18:02",
          "18-02-2024 18:48",
          "29-11-2024 09:35",
          "22-02-2024 13:38",
          "04-10-2024 08:42",
          "04-02-2024 10:28",
          "19-02-2024 00:16",
          "04-02-2025 07:26",
          "31-07-2024 05:07",
          "20-01-2025 09:53",
          "20-05-2024 03:57",
          "26-11-2024 23:22",
          "01-08-2024 06:04",
          "16-04-2025 21:58",
          "26-01-2024 03:42",
          "12-10-2024 00:26",
          "27-10-2024 13:58",
          "04-06-2024 11:35",
          "20-02-2024 10:33",
          "30-01-2025 03:53",
          "13-10-2024 13:00",
          "15-11-2024 01:46",
          "09-04-2024 16:19",
          "28-04-2024 20:24",
          "13-07-2024 15:37",
          "27-03-2025 00:02",
          "04-03-2024 02:06",
          "13-05-2025 14:01",
          "07-12-2024 10:50",
          "05-11-2024 16:36",
          "11-07-2024 13:32",
          "11-09-2024 07:50",
          "19-01-2024 00:02",
          "06-08-2024 12:51",
          "09-11-2024 05:12",
          "27-10-2024 02:03",
          "16-03-2024 02:16",
          "07-11-2024 18:23",
          "25-04-2024 16:27",
          "18-09-2024 06:27",
          "29-03-2025 08:59",
          "25-06-2024 17:42",
          "07-07-2024 02:52",
          "24-01-2025 18:35",
          "19-10-2024 16:31",
          "11-01-2025 01:46",
          "14-01-2025 19:40",
          "21-03-2025 10:22",
          "02-03-2024 09:12",
          "29-07-2024 23:23",
          "10-05-2025 12:08",
          "03-03-2025 11:18",
          "16-05-2025 16:24",
          "16-05-2024 12:56",
          "19-08-2024 18:26",
          "26-01-2025 15:12",
          "11-01-2024 22:32",
          "04-02-2025 05:31",
          "06-01-2024 07:19",
          "09-01-2024 21:10",
          "29-08-2024 13:02",
          "15-04-2025 11:47",
          "07-04-2025 18:47",
          "27-01-2025 14:57",
          "14-01-2025 16:24",
          "25-12-2024 03:21",
          "25-11-2024 02:17",
          "13-11-2024 13:49",
          "22-02-2025 21:17",
          "18-01-2024 15:49",
          "30-04-2024 11:40",
          "09-06-2024 01:38",
          "08-11-2024 10:46",
          "30-06-2024 21:05",
          "08-02-2025 20:49",
          "07-03-2025 17:48",
          "25-04-2024 21:37",
          "14-02-2024 18:11",
          "17-05-2025 07:28",
          "14-04-2025 21:26",
          "07-01-2025 08:33",
          "07-07-2024 10:15",
          "18-05-2025 21:02",
          "06-06-2024 18:34",
          "05-03-2025 18:28",
          "03-03-2025 16:43",
          "18-04-2024 17:00",
          "07-02-2024 16:22",
          "20-12-2024 04:38",
          "06-01-2024 03:15",
          "30-11-2024 10:27",
          "26-07-2024 15:17",
          "03-03-2024 14:48",
          "05-03-2024 05:22",
          "13-06-2024 05:05",
          "26-01-2024 13:20",
          "20-08-2024 10:55",
          "23-01-2025 23:27",
          "04-11-2024 03:04",
          "31-03-2025 01:30",
          "22-10-2024 03:42",
          "28-07-2024 12:48",
          "21-01-2024 09:33",
          "17-11-2024 09:58",
          "27-07-2024 21:00",
          "29-02-2024 17:55",
          "15-04-2024 05:42",
          "30-11-2024 11:16",
          "05-11-2024 07:43",
          "29-03-2024 11:01",
          "06-12-2024 13:23",
          "24-11-2024 15:40",
          "29-01-2024 13:21",
          "13-03-2025 11:11",
          "26-03-2025 21:38",
          "24-09-2024 22:39",
          "30-08-2024 06:03",
          "22-02-2024 04:13",
          "04-02-2025 18:49",
          "24-05-2024 18:30",
          "04-01-2024 10:57",
          "11-10-2024 02:52",
          "28-10-2024 20:45",
          "22-04-2025 06:49",
          "31-01-2025 18:27",
          "07-03-2025 00:19",
          "08-01-2024 10:38",
          "18-11-2024 19:54",
          "01-08-2024 11:37",
          "28-03-2024 22:24",
          "28-02-2025 08:45",
          "23-07-2024 03:13",
          "19-04-2025 00:06",
          "29-09-2024 11:40",
          "26-07-2024 15:38",
          "12-07-2024 22:19",
          "18-10-2024 09:43",
          "11-09-2024 05:06",
          "19-02-2025 02:23",
          "24-03-2025 21:27",
          "06-04-2024 11:56",
          "03-05-2024 11:33",
          "03-11-2024 20:20",
          "01-03-2024 12:52",
          "12-04-2024 15:55",
          "20-08-2024 10:31",
          "19-04-2025 01:10",
          "17-06-2024 17:44",
          "11-07-2024 11:04",
          "08-06-2024 13:47",
          "26-10-2024 17:25",
          "12-04-2024 12:20",
          "01-04-2025 05:14",
          "10-08-2024 12:31",
          "03-08-2024 12:22",
          "30-10-2024 11:45",
          "07-03-2024 23:07",
          "10-01-2024 20:05",
          "15-10-2024 20:08",
          "23-03-2025 21:33",
          "02-05-2024 04:28",
          "10-01-2024 13:03",
          "24-05-2025 07:11",
          "16-10-2024 13:38",
          "07-08-2024 06:34",
          "28-04-2025 16:17",
          "09-07-2024 09:29",
          "02-01-2024 03:15",
          "05-08-2024 08:19",
          "15-03-2024 05:41",
          "14-08-2024 13:14",
          "28-02-2024 00:16",
          "03-04-2024 18:41",
          "24-08-2024 06:58",
          "08-02-2024 00:30",
          "14-03-2024 13:48",
          "07-11-2024 03:23",
          "16-05-2025 18:04",
          "02-12-2024 10:37",
          "05-08-2024 08:52",
          "03-03-2025 17:34",
          "04-05-2025 22:06",
          "25-01-2025 05:17",
          "01-01-2025 08:50",
          "18-02-2025 12:41",
          "02-07-2024 17:37",
          "13-03-2025 09:06",
          "18-06-2024 22:53",
          "08-09-2024 08:07",
          "26-02-2024 08:05",
          "19-05-2025 05:35",
          "16-05-2024 04:47",
          "16-03-2025 18:38",
          "20-01-2025 09:33",
          "12-12-2024 21:47",
          "07-02-2024 09:32",
          "18-10-2024 12:59",
          "17-08-2024 01:29",
          "28-02-2025 21:40",
          "03-12-2024 06:04",
          "25-07-2024 00:53",
          "12-02-2024 08:02",
          "16-03-2024 07:58",
          "04-11-2024 17:19",
          "24-05-2024 22:09",
          "27-04-2024 09:16",
          "27-10-2024 16:10",
          "02-03-2024 07:49",
          "03-04-2024 10:12",
          "05-06-2024 20:02",
          "28-10-2024 10:41",
          "09-02-2025 21:15",
          "13-03-2025 01:11",
          "17-04-2025 23:52",
          "03-11-2024 10:06",
          "23-08-2024 09:21",
          "10-12-2024 04:10",
          "05-02-2025 04:17",
          "17-03-2025 16:49",
          "03-06-2024 15:40",
          "16-10-2024 07:17",
          "09-08-2024 10:04",
          "09-06-2024 13:44",
          "12-04-2024 18:30",
          "19-10-2024 10:00",
          "29-03-2025 23:37",
          "07-08-2024 13:28",
          "24-05-2025 14:57",
          "05-09-2024 05:30",
          "20-03-2025 07:38",
          "21-08-2024 04:02",
          "17-09-2024 16:38",
          "21-07-2024 09:10",
          "25-02-2024 07:33",
          "27-04-2024 02:42",
          "20-05-2024 02:05",
          "31-07-2024 10:55",
          "02-12-2024 20:58",
          "07-09-2024 06:29",
          "10-04-2024 03:26",
          "20-12-2024 03:04",
          "08-05-2024 01:39",
          "26-01-2025 23:03",
          "29-04-2025 00:04",
          "22-10-2024 08:26",
          "22-11-2024 21:36",
          "01-04-2024 10:43",
          "05-10-2024 00:08",
          "01-07-2024 03:29",
          "28-02-2024 07:00",
          "15-05-2024 16:40",
          "17-04-2024 11:51",
          "23-09-2024 04:48",
          "18-05-2025 23:22",
          "19-11-2024 03:19",
          "23-01-2024 09:10",
          "10-01-2024 14:24",
          "09-01-2025 07:49",
          "30-12-2024 12:10",
          "21-06-2024 23:33",
          "22-01-2025 03:53",
          "08-03-2025 17:40",
          "23-05-2025 10:33",
          "10-04-2025 23:54",
          "07-05-2025 04:18",
          "16-07-2024 12:17",
          "24-03-2024 16:53",
          "14-04-2024 13:47",
          "29-01-2025 20:00",
          "21-11-2024 04:28",
          "16-11-2024 14:07",
          "11-06-2024 21:19",
          "09-05-2025 16:15",
          "10-08-2024 02:05",
          "26-07-2024 08:50",
          "26-01-2024 02:14",
          "03-07-2024 13:06",
          "11-02-2024 18:56",
          "02-04-2025 00:17",
          "03-02-2025 02:47",
          "05-01-2024 09:13",
          "16-01-2025 00:31",
          "27-01-2025 08:29",
          "07-10-2024 05:45",
          "25-09-2024 18:02",
          "26-10-2024 17:14",
          "13-01-2025 02:41",
          "06-01-2024 16:39",
          "08-06-2024 16:16",
          "08-03-2024 23:30",
          "28-10-2024 09:27",
          "19-02-2024 02:50",
          "08-03-2024 04:34",
          "15-04-2024 22:20",
          "05-03-2025 22:26",
          "24-08-2024 15:51",
          "20-06-2024 11:47",
          "24-12-2024 06:36",
          "13-09-2024 23:30",
          "16-12-2024 00:38",
          "04-01-2024 18:04",
          "14-09-2024 12:46",
          "04-03-2024 16:06",
          "28-01-2025 22:29",
          "26-02-2025 03:00",
          "26-12-2024 22:39",
          "03-02-2025 08:12",
          "01-02-2024 09:28",
          "07-10-2024 14:12",
          "23-07-2024 12:34",
          "14-07-2024 09:54",
          "06-01-2024 02:59",
          "25-05-2024 04:10",
          "09-01-2025 00:07",
          "09-04-2024 07:57",
          "19-07-2024 14:18",
          "17-06-2024 05:35",
          "29-04-2025 01:30",
          "27-06-2024 12:02",
          "15-04-2025 07:32",
          "13-03-2024 09:11",
          "22-11-2024 18:07",
          "02-04-2025 12:39",
          "26-02-2025 07:52",
          "07-02-2025 17:03",
          "21-05-2025 02:15",
          "16-11-2024 23:07",
          "05-11-2024 05:40",
          "07-11-2024 02:59",
          "11-04-2025 05:23",
          "21-04-2025 21:08",
          "09-01-2024 07:39",
          "11-05-2024 15:23",
          "02-11-2024 22:00",
          "10-03-2025 06:38",
          "04-01-2024 14:42",
          "02-02-2025 16:21",
          "23-12-2024 20:27",
          "02-09-2024 05:38",
          "05-11-2024 20:36",
          "27-05-2024 16:58",
          "25-04-2025 11:28",
          "06-01-2024 03:28",
          "22-05-2024 00:58",
          "24-02-2025 00:38",
          "02-09-2024 04:09",
          "02-03-2025 01:57",
          "12-06-2024 12:36",
          "18-03-2024 13:42",
          "08-01-2024 13:36",
          "12-01-2025 23:15",
          "16-07-2024 12:18",
          "24-09-2024 07:14",
          "19-05-2025 18:22",
          "22-10-2024 23:40",
          "05-05-2025 07:47",
          "15-04-2025 05:11",
          "22-05-2024 19:53",
          "09-05-2024 15:26",
          "10-02-2025 23:44",
          "11-07-2024 03:48",
          "04-01-2025 20:10",
          "09-04-2025 03:46",
          "25-06-2024 09:58",
          "15-04-2024 20:49",
          "08-01-2024 02:14",
          "05-12-2024 12:15",
          "02-03-2024 12:34",
          "16-11-2024 17:05",
          "28-04-2025 16:58",
          "07-08-2024 02:59",
          "22-09-2024 13:43",
          "13-02-2024 12:37",
          "10-01-2024 19:10",
          "08-02-2025 18:44",
          "08-02-2025 14:46",
          "02-07-2024 06:43",
          "02-02-2024 14:48",
          "25-04-2025 12:22",
          "13-01-2025 22:03",
          "20-10-2024 10:07",
          "27-05-2024 09:40",
          "04-05-2024 13:01",
          "21-10-2024 09:53",
          "27-10-2024 23:21",
          "15-03-2024 18:20",
          "17-03-2024 16:54",
          "15-04-2025 15:47",
          "07-10-2024 08:08",
          "24-08-2024 01:11",
          "12-02-2025 16:55",
          "22-12-2024 07:10",
          "10-04-2025 23:14",
          "08-09-2024 05:33",
          "17-12-2024 09:24",
          "22-08-2024 10:44",
          "01-02-2025 02:47",
          "13-07-2024 01:40",
          "09-01-2025 19:04",
          "01-03-2024 22:55",
          "09-01-2024 21:09",
          "25-01-2025 05:26",
          "27-01-2025 00:50",
          "19-03-2025 20:25",
          "08-01-2025 13:02",
          "07-07-2024 05:04",
          "10-10-2024 17:04",
          "23-04-2025 15:11",
          "07-03-2024 15:41",
          "23-09-2024 15:02",
          "28-02-2025 10:05",
          "28-03-2025 19:59",
          "11-02-2024 05:34",
          "15-01-2024 19:38",
          "16-02-2025 21:00",
          "11-07-2024 03:43",
          "30-04-2025 15:09",
          "05-08-2024 15:11",
          "30-04-2025 20:37",
          "25-02-2025 03:58",
          "15-04-2024 01:17",
          "03-09-2024 16:26",
          "25-05-2024 23:20",
          "20-04-2025 15:15",
          "25-01-2025 04:00",
          "24-06-2024 18:02",
          "21-02-2024 08:52",
          "02-02-2024 11:41",
          "13-05-2025 04:26",
          "03-11-2024 06:43",
          "10-08-2024 01:50",
          "16-05-2025 20:12",
          "01-11-2024 07:17",
          "11-03-2024 01:04",
          "07-03-2024 06:13",
          "17-09-2024 08:27",
          "12-12-2024 14:51",
          "22-12-2024 05:43",
          "18-12-2024 10:17",
          "03-05-2025 06:36",
          "25-03-2025 00:25",
          "19-04-2025 15:32",
          "13-10-2024 06:37",
          "13-02-2025 08:58",
          "10-01-2025 16:07",
          "10-04-2024 18:01",
          "13-08-2024 15:05",
          "18-11-2024 01:18",
          "16-07-2024 14:41",
          "03-11-2024 14:53",
          "28-01-2024 14:51",
          "13-02-2024 12:19",
          "14-09-2024 15:41",
          "19-03-2025 11:52",
          "29-07-2024 21:04",
          "22-08-2024 19:37",
          "09-01-2025 21:29",
          "21-04-2024 07:12",
          "29-08-2024 13:06",
          "24-03-2025 14:29",
          "30-07-2024 18:38",
          "25-02-2025 09:28",
          "25-02-2024 08:03",
          "24-10-2024 22:48",
          "03-10-2024 05:19",
          "12-04-2024 08:50",
          "28-06-2024 23:05",
          "18-12-2024 01:48",
          "27-09-2024 18:39",
          "19-05-2025 10:39",
          "03-05-2024 12:21",
          "22-09-2024 19:05",
          "29-03-2024 19:07",
          "09-04-2025 16:21",
          "09-05-2025 02:22",
          "08-06-2024 17:48",
          "28-03-2025 14:49",
          "06-10-2024 00:48",
          "11-11-2024 08:59",
          "06-10-2024 20:15",
          "13-01-2025 00:46",
          "29-04-2025 02:11",
          "25-11-2024 22:19",
          "28-02-2025 05:16",
          "03-03-2024 04:29",
          "04-05-2025 20:24",
          "02-02-2025 04:43",
          "09-04-2025 04:45",
          "22-01-2024 04:52",
          "23-04-2025 07:18",
          "14-10-2024 04:57",
          "22-04-2024 16:18",
          "24-03-2025 18:10",
          "17-02-2025 14:54",
          "14-12-2024 14:37",
          "19-04-2025 04:16",
          "06-07-2024 19:25",
          "07-01-2024 14:00",
          "14-07-2024 15:41",
          "10-05-2025 14:43",
          "27-03-2024 02:18",
          "08-09-2024 04:41",
          "24-07-2024 13:42",
          "25-03-2024 05:17",
          "28-01-2024 01:51",
          "30-01-2024 09:18",
          "06-01-2025 09:09",
          "16-03-2025 14:11",
          "19-02-2025 06:09",
          "20-08-2024 03:20",
          "28-01-2024 17:27",
          "18-02-2025 17:21",
          "13-06-2024 09:58",
          "14-01-2025 17:39",
          "26-08-2024 17:10",
          "21-01-2025 03:25",
          "03-04-2024 19:55",
          "31-07-2024 17:44",
          "13-04-2024 14:12",
          "21-05-2025 05:36",
          "21-04-2024 03:21",
          "23-01-2025 06:34",
          "15-03-2024 07:40",
          "11-02-2024 05:16",
          "03-02-2024 11:43",
          "22-03-2024 02:33",
          "26-03-2025 07:32",
          "25-06-2024 22:09",
          "12-02-2024 04:57",
          "05-05-2025 21:43",
          "27-03-2024 07:13",
          "10-05-2025 13:10",
          "17-06-2024 02:46",
          "03-12-2024 06:58",
          "31-12-2024 13:36",
          "19-01-2025 16:46",
          "17-08-2024 17:55",
          "19-01-2024 23:06",
          "02-05-2025 05:48",
          "22-03-2025 19:03",
          "27-03-2024 04:33",
          "11-03-2025 13:17",
          "24-06-2024 02:27",
          "17-12-2024 09:32",
          "12-10-2024 22:44",
          "07-05-2024 23:27",
          "19-11-2024 12:48",
          "18-02-2024 21:27",
          "05-04-2025 20:58",
          "25-06-2024 03:31",
          "19-02-2025 19:01",
          "31-03-2024 19:29",
          "03-09-2024 04:15",
          "10-11-2024 05:35",
          "17-05-2025 17:30",
          "28-03-2024 05:42",
          "12-12-2024 09:32",
          "01-06-2024 00:24",
          "15-01-2025 22:56",
          "10-01-2024 11:15",
          "18-11-2024 19:31",
          "09-04-2025 10:19",
          "18-10-2024 20:54",
          "16-04-2024 08:30",
          "24-08-2024 01:22",
          "22-05-2025 19:57",
          "17-01-2025 23:07",
          "16-10-2024 20:59",
          "06-05-2024 20:17",
          "15-02-2025 08:41",
          "29-07-2024 20:21",
          "16-10-2024 17:29",
          "21-04-2025 11:08",
          "27-09-2024 11:06",
          "24-08-2024 15:43",
          "11-06-2024 23:43",
          "03-02-2024 00:34",
          "21-02-2024 10:56",
          "23-01-2024 17:25",
          "27-01-2025 04:11",
          "13-05-2024 10:05",
          "23-05-2024 18:59",
          "28-03-2024 15:35",
          "01-02-2024 12:59",
          "24-06-2024 10:35",
          "19-05-2024 06:20",
          "02-11-2024 15:49",
          "05-04-2024 08:27",
          "03-10-2024 14:08",
          "15-01-2025 01:59",
          "19-05-2024 02:35",
          "27-12-2024 23:16",
          "14-01-2024 17:23",
          "26-01-2024 12:33",
          "17-03-2025 20:13",
          "04-04-2025 01:52",
          "29-03-2025 13:56",
          "08-07-2024 16:45",
          "11-05-2024 20:54",
          "16-01-2024 20:19",
          "08-06-2024 22:24",
          "20-01-2025 23:51",
          "12-03-2024 10:13",
          "11-06-2024 21:49",
          "17-11-2024 19:22",
          "24-05-2024 21:20",
          "22-04-2025 05:39",
          "14-11-2024 15:48",
          "02-07-2024 09:46",
          "12-01-2025 00:10",
          "19-07-2024 16:51",
          "19-08-2024 10:44",
          "27-03-2024 22:34",
          "11-03-2024 02:21",
          "18-06-2024 07:58",
          "15-01-2025 20:56",
          "08-10-2024 22:46",
          "15-07-2024 11:56",
          "02-07-2024 14:28",
          "19-08-2024 00:21",
          "31-07-2024 20:24",
          "04-05-2024 13:00",
          "22-01-2024 05:51",
          "23-03-2025 05:51",
          "14-11-2024 16:50",
          "03-06-2024 07:21",
          "17-01-2024 02:31",
          "25-04-2025 00:25",
          "12-02-2025 10:19",
          "18-01-2025 19:57",
          "20-05-2024 02:20",
          "28-03-2025 18:06",
          "24-10-2024 20:52",
          "15-04-2025 23:38",
          "10-03-2025 14:57",
          "03-09-2024 11:13",
          "07-10-2024 01:55",
          "08-05-2024 03:31",
          "26-05-2024 17:43",
          "31-03-2024 02:50",
          "24-04-2024 23:55",
          "13-03-2025 11:41",
          "21-01-2025 21:27",
          "23-03-2024 09:17",
          "06-04-2025 12:46",
          "13-06-2024 04:09",
          "05-11-2024 19:15",
          "09-08-2024 07:35",
          "05-10-2024 21:04",
          "11-04-2025 07:09",
          "02-02-2025 17:22",
          "06-03-2024 05:18",
          "12-07-2024 03:14",
          "31-01-2025 15:14",
          "30-03-2025 19:46",
          "05-03-2024 16:38",
          "22-09-2024 02:56",
          "19-02-2025 01:29",
          "13-01-2025 01:09",
          "26-05-2024 04:41",
          "07-03-2024 20:54",
          "01-01-2025 05:11",
          "16-09-2024 07:24",
          "29-01-2024 18:03",
          "17-02-2024 03:37",
          "31-03-2024 19:56",
          "24-09-2024 01:46",
          "15-08-2024 21:15",
          "07-03-2024 22:44",
          "23-08-2024 20:28",
          "15-05-2024 16:55",
          "12-01-2025 18:30",
          "21-03-2024 21:20",
          "02-02-2024 14:22",
          "08-12-2024 22:29",
          "07-12-2024 01:34",
          "18-11-2024 08:19",
          "13-11-2024 22:04",
          "06-03-2024 20:22",
          "14-02-2024 21:39",
          "07-01-2024 03:18",
          "25-09-2024 03:56",
          "24-02-2025 01:03",
          "22-01-2024 15:55",
          "20-07-2024 18:12",
          "05-01-2024 01:11",
          "30-06-2024 15:03",
          "07-02-2025 15:17",
          "23-04-2024 19:57",
          "01-03-2024 15:22",
          "09-05-2025 08:29",
          "11-01-2025 12:39",
          "10-03-2025 05:00",
          "29-04-2024 01:48",
          "02-04-2025 23:23",
          "01-03-2025 06:50",
          "04-01-2025 02:53",
          "09-09-2024 14:28",
          "16-05-2025 16:45",
          "15-05-2025 03:25",
          "04-01-2025 14:13",
          "09-07-2024 12:28",
          "21-09-2024 01:14",
          "18-03-2024 03:42",
          "11-05-2024 09:56",
          "16-11-2024 15:34",
          "17-01-2025 21:48",
          "23-01-2024 10:51",
          "21-05-2025 01:47",
          "16-10-2024 22:54",
          "01-01-2024 18:39",
          "22-10-2024 06:34",
          "21-08-2024 12:18",
          "27-01-2025 02:31",
          "23-12-2024 03:16",
          "08-01-2024 10:33",
          "22-02-2025 09:09",
          "17-05-2024 14:59",
          "04-10-2024 22:16",
          "29-01-2024 13:55",
          "03-08-2024 10:07",
          "16-05-2024 08:05",
          "29-05-2024 00:22",
          "01-12-2024 23:16",
          "06-02-2024 11:29",
          "20-01-2024 16:58",
          "07-01-2025 19:13",
          "04-07-2024 03:20",
          "06-12-2024 14:46",
          "20-02-2024 12:12",
          "10-03-2025 09:19",
          "09-01-2024 05:43",
          "05-02-2025 17:32",
          "07-04-2024 20:28",
          "04-02-2024 05:32",
          "29-03-2025 08:19",
          "31-03-2025 12:01",
          "31-05-2024 18:39",
          "14-09-2024 04:59",
          "19-06-2024 10:01",
          "08-06-2024 11:22",
          "13-08-2024 16:43",
          "19-06-2024 01:25",
          "17-01-2024 07:21",
          "13-05-2024 02:22",
          "17-02-2025 15:32",
          "26-05-2024 21:07",
          "29-03-2025 16:04",
          "16-05-2025 01:00",
          "19-01-2025 07:35",
          "19-06-2024 12:15",
          "17-10-2024 13:51",
          "27-12-2024 08:56",
          "31-07-2024 01:27",
          "24-01-2025 17:34",
          "16-09-2024 05:41",
          "14-04-2025 04:00",
          "23-05-2025 23:50",
          "30-06-2024 12:54",
          "11-06-2024 18:56",
          "23-01-2025 04:57",
          "10-09-2024 06:33",
          "17-04-2025 02:54",
          "25-03-2024 09:09",
          "14-01-2025 12:24",
          "11-02-2025 07:26",
          "27-03-2024 00:25",
          "28-08-2024 14:17",
          "01-08-2024 22:35",
          "12-09-2024 10:58",
          "19-08-2024 00:50",
          "22-05-2024 11:38",
          "14-08-2024 17:12",
          "26-01-2025 18:36",
          "11-05-2025 05:20",
          "30-03-2024 01:50",
          "18-04-2024 22:33",
          "19-02-2025 06:40",
          "18-05-2024 05:02",
          "30-10-2024 09:39",
          "17-10-2024 23:53",
          "20-06-2024 07:40",
          "01-05-2025 20:08",
          "08-09-2024 04:00",
          "04-08-2024 06:49",
          "20-03-2024 01:56",
          "14-09-2024 21:47",
          "31-01-2025 22:13",
          "08-07-2024 04:01",
          "13-05-2025 16:28",
          "08-02-2025 13:46",
          "12-02-2024 00:00",
          "16-01-2025 20:52",
          "05-04-2025 07:26",
          "09-07-2024 05:43",
          "08-01-2025 17:40",
          "01-05-2024 01:47",
          "28-04-2024 16:22",
          "08-01-2025 11:35",
          "23-01-2025 21:43",
          "27-08-2024 02:00",
          "04-12-2024 21:10",
          "25-11-2024 08:41",
          "21-07-2024 23:33",
          "31-03-2024 16:01",
          "08-05-2024 19:10",
          "15-11-2024 16:56",
          "05-01-2024 23:40",
          "30-11-2024 17:28",
          "16-12-2024 00:55",
          "13-11-2024 12:26",
          "24-01-2024 01:01",
          "28-03-2025 09:34",
          "02-01-2025 13:40",
          "05-11-2024 12:02",
          "20-01-2024 22:43",
          "25-04-2025 06:54",
          "07-05-2025 06:27",
          "27-09-2024 13:24",
          "20-03-2025 04:51",
          "10-05-2024 12:43",
          "03-12-2024 19:00",
          "15-04-2024 10:40",
          "15-05-2025 04:46",
          "22-06-2024 15:17",
          "20-03-2025 22:29",
          "27-05-2024 11:12",
          "03-04-2025 20:51",
          "23-01-2025 05:33",
          "05-09-2024 15:49",
          "19-10-2024 14:21"
         ],
         "xaxis": "x",
         "y": [
          "15:36",
          "17:25",
          "21:02",
          "07:28",
          "11:16",
          "22:44",
          "06:48",
          "05:22",
          "21:21",
          "03:28",
          "02:32",
          "04:29",
          "17:03",
          "10:11",
          "00:36",
          "19:54",
          "03:32",
          "18:33",
          "03:49",
          "00:12",
          "10:26",
          "14:31",
          "08:39",
          "19:03",
          "01:25",
          "22:01",
          "00:41",
          "09:54",
          "04:33",
          "02:26",
          "08:24",
          "12:36",
          "01:15",
          "19:20",
          "21:46",
          "11:18",
          "05:44",
          "00:33",
          "04:47",
          "05:47",
          "16:02",
          "19:19",
          "07:20",
          "04:53",
          "20:46",
          "22:39",
          "06:31",
          "03:23",
          "05:50",
          "11:24",
          "22:10",
          "00:52",
          "00:01",
          "14:21",
          "16:05",
          "20:06",
          "14:31",
          "01:23",
          "04:36",
          "06:05",
          "05:48",
          "06:47",
          "04:25",
          "20:22",
          "07:14",
          "16:06",
          "02:45",
          "01:59",
          "07:39",
          "20:41",
          "08:52",
          "08:13",
          "15:22",
          "20:13",
          "16:12",
          "07:09",
          "02:53",
          "17:31",
          "22:15",
          "22:25",
          "22:36",
          "08:22",
          "09:04",
          "18:11",
          "19:25",
          "05:33",
          "03:33",
          "14:06",
          "23:06",
          "01:45",
          "05:01",
          "10:23",
          "20:53",
          "03:20",
          "01:11",
          "02:40",
          "20:27",
          "07:58",
          "21:32",
          "13:02",
          "10:59",
          "13:34",
          "00:43",
          "05:30",
          "11:28",
          "11:11",
          "23:51",
          "12:06",
          "09:59",
          "18:39",
          "11:06",
          "19:10",
          "08:55",
          "18:04",
          "15:27",
          "21:59",
          "23:46",
          "22:53",
          "05:00",
          "05:18",
          "19:18",
          "06:36",
          "07:43",
          "18:16",
          "17:03",
          "06:42",
          "05:23",
          "18:44",
          "18:53",
          "01:28",
          "01:24",
          "12:17",
          "11:07",
          "02:56",
          "05:33",
          "16:58",
          "23:41",
          "01:31",
          "02:45",
          "09:24",
          "01:30",
          "19:31",
          "09:09",
          "19:55",
          "12:00",
          "05:16",
          "17:21",
          "08:23",
          "19:01",
          "05:00",
          "16:02",
          "17:48",
          "07:41",
          "13:14",
          "08:10",
          "05:33",
          "22:39",
          "20:05",
          "19:50",
          "23:31",
          "08:32",
          "23:04",
          "19:25",
          "15:06",
          "04:39",
          "04:02",
          "18:13",
          "22:17",
          "09:57",
          "18:26",
          "19:12",
          "09:45",
          "14:55",
          "09:00",
          "11:23",
          "01:24",
          "08:26",
          "05:32",
          "11:06",
          "05:16",
          "23:53",
          "06:21",
          "23:04",
          "05:09",
          "01:26",
          "15:19",
          "12:00",
          "11:53",
          "04:31",
          "14:09",
          "02:48",
          "17:39",
          "21:12",
          "16:12",
          "00:31",
          "02:21",
          "14:49",
          "11:53",
          "17:02",
          "14:00",
          "09:13",
          "00:23",
          "14:04",
          "06:08",
          "03:17",
          "03:16",
          "19:37",
          "17:54",
          "07:41",
          "09:48",
          "17:58",
          "03:06",
          "20:03",
          "17:21",
          "02:20",
          "20:30",
          "11:41",
          "10:06",
          "23:50",
          "12:47",
          "11:48",
          "16:41",
          "13:10",
          "19:48",
          "16:21",
          "23:25",
          "06:22",
          "08:02",
          "21:53",
          "13:27",
          "12:44",
          "19:07",
          "15:32",
          "16:45",
          "04:10",
          "03:11",
          "14:22",
          "21:44",
          "16:37",
          "12:25",
          "01:56",
          "11:52",
          "22:28",
          "21:27",
          "19:01",
          "22:25",
          "19:32",
          "07:48",
          "22:53",
          "09:09",
          "11:42",
          "21:57",
          "19:31",
          "19:52",
          "17:36",
          "18:19",
          "16:32",
          "05:35",
          "04:33",
          "10:59",
          "16:17",
          "15:02",
          "06:35",
          "06:27",
          "13:52",
          "11:25",
          "00:21",
          "03:55",
          "02:28",
          "04:11",
          "13:11",
          "09:54",
          "10:57",
          "21:48",
          "18:51",
          "06:30",
          "12:42",
          "08:33",
          "12:23",
          "14:10",
          "16:38",
          "14:17",
          "12:12",
          "23:01",
          "22:52",
          "06:56",
          "05:01",
          "19:21",
          "19:35",
          "11:34",
          "03:43",
          "22:13",
          "08:14",
          "19:26",
          "00:50",
          "11:50",
          "21:00",
          "12:15",
          "23:47",
          "09:22",
          "04:07",
          "01:36",
          "12:58",
          "16:53",
          "22:47",
          "10:50",
          "06:30",
          "03:23",
          "21:53",
          "12:26",
          "12:18",
          "21:50",
          "13:18",
          "17:06",
          "10:58",
          "01:41",
          "18:05",
          "11:49",
          "15:03",
          "17:49",
          "13:19",
          "05:32",
          "14:01",
          "12:42",
          "13:10",
          "00:12",
          "20:32",
          "20:34",
          "23:03",
          "05:10",
          "13:44",
          "08:14",
          "14:03",
          "07:23",
          "16:58",
          "09:58",
          "04:13",
          "08:40",
          "06:55",
          "13:57",
          "00:51",
          "19:59",
          "08:25",
          "01:18",
          "14:57",
          "04:20",
          "19:10",
          "11:37",
          "09:59",
          "18:45",
          "23:25",
          "06:08",
          "10:07",
          "12:58",
          "19:02",
          "09:40",
          "23:05",
          "08:24",
          "09:02",
          "06:25",
          "05:45",
          "18:52",
          "10:01",
          "21:58",
          "10:31",
          "13:21",
          "01:41",
          "22:01",
          "06:34",
          "01:39",
          "08:58",
          "08:11",
          "18:29",
          "23:16",
          "09:38",
          "17:26",
          "08:49",
          "11:19",
          "21:32",
          "12:02",
          "22:18",
          "01:33",
          "01:02",
          "10:58",
          "10:10",
          "05:01",
          "05:14",
          "17:02",
          "16:25",
          "08:29",
          "10:17",
          "14:28",
          "19:02",
          "10:54",
          "00:00",
          "14:16",
          "15:45",
          "05:57",
          "08:12",
          "04:33",
          "16:59",
          "10:34",
          "08:43",
          "03:09",
          "02:25",
          "11:31",
          "22:02",
          "07:46",
          "03:49",
          "04:20",
          "02:40",
          "23:34",
          "00:20",
          "08:51",
          "21:58",
          "11:29",
          "01:10",
          "03:39",
          "07:22",
          "16:55",
          "12:22",
          "05:21",
          "23:53",
          "04:44",
          "09:36",
          "15:41",
          "08:43",
          "13:23",
          "00:53",
          "05:00",
          "19:00",
          "11:41",
          "01:04",
          "05:05",
          "13:45",
          "17:56",
          "15:00",
          "20:32",
          "05:55",
          "15:34",
          "22:48",
          "17:06",
          "03:09",
          "09:20",
          "03:09",
          "14:21",
          "19:07",
          "01:36",
          "03:12",
          "10:05",
          "01:54",
          "08:59",
          "06:32",
          "19:09",
          "17:56",
          "02:56",
          "18:09",
          "17:34",
          "23:49",
          "10:34",
          "04:14",
          "05:20",
          "23:20",
          "23:47",
          "16:27",
          "13:15",
          "07:56",
          "00:25",
          "01:30",
          "18:54",
          "13:57",
          "16:51",
          "23:59",
          "04:19",
          "23:53",
          "08:39",
          "10:06",
          "15:11",
          "13:58",
          "10:52",
          "04:13",
          "04:40",
          "01:18",
          "09:20",
          "14:51",
          "06:42",
          "02:45",
          "13:00",
          "07:54",
          "10:22",
          "19:04",
          "14:02",
          "08:54",
          "17:13",
          "03:39",
          "00:27",
          "06:07",
          "03:52",
          "06:28",
          "22:24",
          "08:14",
          "15:37",
          "23:01",
          "08:02",
          "15:25",
          "17:03",
          "21:52",
          "06:40",
          "21:29",
          "18:11",
          "12:23",
          "04:47",
          "02:13",
          "00:52",
          "04:20",
          "02:40",
          "13:39",
          "14:26",
          "14:08",
          "00:03",
          "13:28",
          "07:26",
          "19:40",
          "01:08",
          "09:15",
          "06:11",
          "20:05",
          "16:26",
          "00:04",
          "04:34",
          "21:19",
          "04:54",
          "10:19",
          "21:43",
          "03:19",
          "13:15",
          "13:38",
          "17:39",
          "18:10",
          "03:43",
          "14:46",
          "13:21",
          "19:35",
          "19:20",
          "15:11",
          "07:48",
          "16:12",
          "13:15",
          "22:42",
          "11:02",
          "11:02",
          "13:19",
          "10:26",
          "23:55",
          "19:36",
          "17:08",
          "16:06",
          "09:29",
          "01:30",
          "17:36",
          "08:14",
          "00:20",
          "07:00",
          "10:31",
          "10:54",
          "04:08",
          "02:19",
          "19:36",
          "23:12",
          "22:39",
          "06:04",
          "01:11",
          "20:41",
          "14:23",
          "05:23",
          "17:58",
          "16:17",
          "16:05",
          "15:26",
          "11:21",
          "21:16",
          "06:43",
          "20:25",
          "21:21",
          "05:00",
          "15:57",
          "15:49",
          "21:16",
          "04:24",
          "02:22",
          "16:54",
          "23:43",
          "15:54",
          "05:27",
          "18:16",
          "09:24",
          "13:08",
          "04:40",
          "06:58",
          "02:59",
          "21:19",
          "08:19",
          "01:46",
          "07:30",
          "09:49",
          "15:37",
          "06:56",
          "11:19",
          "07:57",
          "01:52",
          "16:58",
          "07:35",
          "10:00",
          "17:34",
          "19:29",
          "15:39",
          "02:20",
          "14:59",
          "16:15",
          "15:18",
          "13:35",
          "16:36",
          "13:19",
          "22:06",
          "20:09",
          "22:43",
          "07:34",
          "13:21",
          "15:18",
          "19:07",
          "10:22",
          "08:52",
          "23:04",
          "06:08",
          "09:11",
          "23:43",
          "03:00",
          "20:06",
          "10:58",
          "13:32",
          "20:24",
          "20:32",
          "16:44",
          "02:32",
          "18:38",
          "15:00",
          "01:12",
          "09:57",
          "21:18",
          "01:51",
          "02:44",
          "23:46",
          "06:39",
          "04:57",
          "20:43",
          "05:53",
          "05:33",
          "05:38",
          "08:03",
          "05:29",
          "17:44",
          "19:04",
          "15:33",
          "15:35",
          "05:00",
          "20:50",
          "14:18",
          "16:15",
          "15:08",
          "02:51",
          "05:23",
          "14:14",
          "05:45",
          "02:10",
          "10:17",
          "10:14",
          "15:29",
          "07:02",
          "04:19",
          "18:01",
          "18:28",
          "11:14",
          "17:51",
          "17:32",
          "04:51",
          "21:18",
          "18:12",
          "14:34",
          "07:01",
          "04:05",
          "08:02",
          "09:09",
          "05:50",
          "11:59",
          "02:49",
          "08:23",
          "22:31",
          "06:02",
          "22:38",
          "08:22",
          "14:38",
          "04:11",
          "08:22",
          "14:50",
          "17:26",
          "18:35",
          "00:14",
          "06:07",
          "19:39",
          "05:32",
          "13:53",
          "03:18",
          "10:44",
          "23:02",
          "00:12",
          "14:07",
          "21:39",
          "22:15",
          "04:42",
          "19:47",
          "19:44",
          "05:09",
          "06:48",
          "18:17",
          "06:53",
          "10:27",
          "00:36",
          "23:46",
          "12:01",
          "20:37",
          "10:40",
          "21:15",
          "09:05",
          "02:35",
          "20:43",
          "23:25",
          "22:14",
          "20:33",
          "09:00",
          "21:17",
          "18:41",
          "12:25",
          "11:55",
          "15:56",
          "00:09",
          "01:09",
          "11:44",
          "17:46",
          "05:33",
          "11:23",
          "20:05",
          "16:25",
          "13:19",
          "11:55",
          "06:31",
          "16:50",
          "09:06",
          "15:18",
          "03:12",
          "03:33",
          "23:51",
          "17:37",
          "13:05",
          "21:25",
          "02:50",
          "14:09",
          "17:26",
          "21:06",
          "21:29",
          "23:17",
          "00:10",
          "11:37",
          "22:43",
          "20:23",
          "22:43",
          "06:44",
          "16:38",
          "10:47",
          "01:31",
          "17:36",
          "11:02",
          "23:57",
          "03:01",
          "08:26",
          "22:14",
          "23:56",
          "13:16",
          "15:34",
          "00:57",
          "20:44",
          "13:43",
          "06:07",
          "06:11",
          "17:40",
          "07:41",
          "02:43",
          "01:29",
          "11:24",
          "20:55",
          "03:22",
          "19:14",
          "21:56",
          "01:04",
          "15:12",
          "12:30",
          "03:00",
          "04:21",
          "18:12",
          "04:03",
          "00:20",
          "13:05",
          "21:49",
          "10:08",
          "12:56",
          "04:25",
          "19:57",
          "08:04",
          "21:26",
          "08:13",
          "18:15",
          "06:05",
          "04:30",
          "16:18",
          "20:06",
          "17:41",
          "03:29",
          "01:41",
          "01:57",
          "04:54",
          "21:42",
          "05:23",
          "07:35",
          "19:15",
          "04:54",
          "21:09",
          "02:52",
          "22:14",
          "23:55",
          "21:08",
          "18:09",
          "19:13",
          "21:36",
          "15:36",
          "23:43",
          "02:37",
          "09:15",
          "23:12",
          "21:15",
          "23:09",
          "04:03",
          "04:57",
          "01:49",
          "17:14",
          "19:42",
          "02:19",
          "15:57",
          "15:58",
          "21:01",
          "16:19",
          "09:33",
          "13:47",
          "05:57",
          "02:13",
          "00:26",
          "07:44",
          "04:20",
          "14:49",
          "17:06",
          "04:46",
          "15:27",
          "13:52",
          "02:19",
          "05:01",
          "10:13",
          "16:25",
          "23:03",
          "11:53",
          "02:13",
          "00:13",
          "19:48",
          "07:28",
          "12:39",
          "03:21",
          "04:42",
          "11:05",
          "09:22",
          "15:10",
          "22:50",
          "14:40",
          "11:29",
          "08:23",
          "00:34",
          "00:18",
          "12:14",
          "17:36",
          "20:18",
          "04:13",
          "15:08",
          "12:38",
          "09:35",
          "06:51",
          "18:24",
          "21:43",
          "05:49",
          "09:38",
          "12:29",
          "19:14",
          "06:23",
          "10:11",
          "12:23",
          "17:49",
          "02:08",
          "07:48",
          "03:39",
          "16:30",
          "22:25",
          "17:16",
          "02:15",
          "08:45",
          "12:50",
          "14:33",
          "10:11",
          "02:25",
          "18:49",
          "06:16",
          "04:27",
          "00:01",
          "14:10",
          "20:02",
          "05:52",
          "07:58",
          "04:17",
          "10:01",
          "12:37",
          "07:44",
          "00:51",
          "15:22",
          "23:10",
          "12:20",
          "01:50",
          "13:00",
          "17:30",
          "19:27",
          "06:29",
          "02:17",
          "23:43",
          "07:40",
          "05:39",
          "10:28",
          "00:33",
          "08:02",
          "20:42",
          "04:32",
          "08:18",
          "03:14",
          "22:19",
          "22:52",
          "05:30",
          "16:42",
          "14:49",
          "00:41",
          "21:10",
          "08:46",
          "06:47",
          "18:00",
          "02:58",
          "17:42",
          "11:54",
          "22:40",
          "03:25",
          "21:52",
          "09:22",
          "01:00",
          "16:22",
          "20:14",
          "17:17",
          "00:11",
          "17:59",
          "02:17",
          "13:32",
          "02:25",
          "09:49",
          "14:33",
          "13:00",
          "00:10",
          "08:04",
          "07:23",
          "14:28",
          "06:05",
          "13:50",
          "19:13",
          "11:58",
          "05:39",
          "16:00",
          "23:26",
          "12:11",
          "21:29",
          "06:41",
          "16:38",
          "14:38"
         ],
         "yaxis": "y"
        }
       ],
       "layout": {
        "coloraxis": {
         "colorbar": {
          "title": {
           "text": "Delivery Duration (min)"
          }
         },
         "colorscale": [
          [
           0,
           "#0d0887"
          ],
          [
           0.1111111111111111,
           "#46039f"
          ],
          [
           0.2222222222222222,
           "#7201a8"
          ],
          [
           0.3333333333333333,
           "#9c179e"
          ],
          [
           0.4444444444444444,
           "#bd3786"
          ],
          [
           0.5555555555555556,
           "#d8576b"
          ],
          [
           0.6666666666666666,
           "#ed7953"
          ],
          [
           0.7777777777777778,
           "#fb9f3a"
          ],
          [
           0.8888888888888888,
           "#fdca26"
          ],
          [
           1,
           "#f0f921"
          ]
         ]
        },
        "legend": {
         "tracegroupgap": 0
        },
        "template": {
         "data": {
          "bar": [
           {
            "error_x": {
             "color": "#2a3f5f"
            },
            "error_y": {
             "color": "#2a3f5f"
            },
            "marker": {
             "line": {
              "color": "#E5ECF6",
              "width": 0.5
             },
             "pattern": {
              "fillmode": "overlay",
              "size": 10,
              "solidity": 0.2
             }
            },
            "type": "bar"
           }
          ],
          "barpolar": [
           {
            "marker": {
             "line": {
              "color": "#E5ECF6",
              "width": 0.5
             },
             "pattern": {
              "fillmode": "overlay",
              "size": 10,
              "solidity": 0.2
             }
            },
            "type": "barpolar"
           }
          ],
          "carpet": [
           {
            "aaxis": {
             "endlinecolor": "#2a3f5f",
             "gridcolor": "white",
             "linecolor": "white",
             "minorgridcolor": "white",
             "startlinecolor": "#2a3f5f"
            },
            "baxis": {
             "endlinecolor": "#2a3f5f",
             "gridcolor": "white",
             "linecolor": "white",
             "minorgridcolor": "white",
             "startlinecolor": "#2a3f5f"
            },
            "type": "carpet"
           }
          ],
          "choropleth": [
           {
            "colorbar": {
             "outlinewidth": 0,
             "ticks": ""
            },
            "type": "choropleth"
           }
          ],
          "contour": [
           {
            "colorbar": {
             "outlinewidth": 0,
             "ticks": ""
            },
            "colorscale": [
             [
              0,
              "#0d0887"
             ],
             [
              0.1111111111111111,
              "#46039f"
             ],
             [
              0.2222222222222222,
              "#7201a8"
             ],
             [
              0.3333333333333333,
              "#9c179e"
             ],
             [
              0.4444444444444444,
              "#bd3786"
             ],
             [
              0.5555555555555556,
              "#d8576b"
             ],
             [
              0.6666666666666666,
              "#ed7953"
             ],
             [
              0.7777777777777778,
              "#fb9f3a"
             ],
             [
              0.8888888888888888,
              "#fdca26"
             ],
             [
              1,
              "#f0f921"
             ]
            ],
            "type": "contour"
           }
          ],
          "contourcarpet": [
           {
            "colorbar": {
             "outlinewidth": 0,
             "ticks": ""
            },
            "type": "contourcarpet"
           }
          ],
          "heatmap": [
           {
            "colorbar": {
             "outlinewidth": 0,
             "ticks": ""
            },
            "colorscale": [
             [
              0,
              "#0d0887"
             ],
             [
              0.1111111111111111,
              "#46039f"
             ],
             [
              0.2222222222222222,
              "#7201a8"
             ],
             [
              0.3333333333333333,
              "#9c179e"
             ],
             [
              0.4444444444444444,
              "#bd3786"
             ],
             [
              0.5555555555555556,
              "#d8576b"
             ],
             [
              0.6666666666666666,
              "#ed7953"
             ],
             [
              0.7777777777777778,
              "#fb9f3a"
             ],
             [
              0.8888888888888888,
              "#fdca26"
             ],
             [
              1,
              "#f0f921"
             ]
            ],
            "type": "heatmap"
           }
          ],
          "histogram": [
           {
            "marker": {
             "pattern": {
              "fillmode": "overlay",
              "size": 10,
              "solidity": 0.2
             }
            },
            "type": "histogram"
           }
          ],
          "histogram2d": [
           {
            "colorbar": {
             "outlinewidth": 0,
             "ticks": ""
            },
            "colorscale": [
             [
              0,
              "#0d0887"
             ],
             [
              0.1111111111111111,
              "#46039f"
             ],
             [
              0.2222222222222222,
              "#7201a8"
             ],
             [
              0.3333333333333333,
              "#9c179e"
             ],
             [
              0.4444444444444444,
              "#bd3786"
             ],
             [
              0.5555555555555556,
              "#d8576b"
             ],
             [
              0.6666666666666666,
              "#ed7953"
             ],
             [
              0.7777777777777778,
              "#fb9f3a"
             ],
             [
              0.8888888888888888,
              "#fdca26"
             ],
             [
              1,
              "#f0f921"
             ]
            ],
            "type": "histogram2d"
           }
          ],
          "histogram2dcontour": [
           {
            "colorbar": {
             "outlinewidth": 0,
             "ticks": ""
            },
            "colorscale": [
             [
              0,
              "#0d0887"
             ],
             [
              0.1111111111111111,
              "#46039f"
             ],
             [
              0.2222222222222222,
              "#7201a8"
             ],
             [
              0.3333333333333333,
              "#9c179e"
             ],
             [
              0.4444444444444444,
              "#bd3786"
             ],
             [
              0.5555555555555556,
              "#d8576b"
             ],
             [
              0.6666666666666666,
              "#ed7953"
             ],
             [
              0.7777777777777778,
              "#fb9f3a"
             ],
             [
              0.8888888888888888,
              "#fdca26"
             ],
             [
              1,
              "#f0f921"
             ]
            ],
            "type": "histogram2dcontour"
           }
          ],
          "mesh3d": [
           {
            "colorbar": {
             "outlinewidth": 0,
             "ticks": ""
            },
            "type": "mesh3d"
           }
          ],
          "parcoords": [
           {
            "line": {
             "colorbar": {
              "outlinewidth": 0,
              "ticks": ""
             }
            },
            "type": "parcoords"
           }
          ],
          "pie": [
           {
            "automargin": true,
            "type": "pie"
           }
          ],
          "scatter": [
           {
            "fillpattern": {
             "fillmode": "overlay",
             "size": 10,
             "solidity": 0.2
            },
            "type": "scatter"
           }
          ],
          "scatter3d": [
           {
            "line": {
             "colorbar": {
              "outlinewidth": 0,
              "ticks": ""
             }
            },
            "marker": {
             "colorbar": {
              "outlinewidth": 0,
              "ticks": ""
             }
            },
            "type": "scatter3d"
           }
          ],
          "scattercarpet": [
           {
            "marker": {
             "colorbar": {
              "outlinewidth": 0,
              "ticks": ""
             }
            },
            "type": "scattercarpet"
           }
          ],
          "scattergeo": [
           {
            "marker": {
             "colorbar": {
              "outlinewidth": 0,
              "ticks": ""
             }
            },
            "type": "scattergeo"
           }
          ],
          "scattergl": [
           {
            "marker": {
             "colorbar": {
              "outlinewidth": 0,
              "ticks": ""
             }
            },
            "type": "scattergl"
           }
          ],
          "scattermap": [
           {
            "marker": {
             "colorbar": {
              "outlinewidth": 0,
              "ticks": ""
             }
            },
            "type": "scattermap"
           }
          ],
          "scattermapbox": [
           {
            "marker": {
             "colorbar": {
              "outlinewidth": 0,
              "ticks": ""
             }
            },
            "type": "scattermapbox"
           }
          ],
          "scatterpolar": [
           {
            "marker": {
             "colorbar": {
              "outlinewidth": 0,
              "ticks": ""
             }
            },
            "type": "scatterpolar"
           }
          ],
          "scatterpolargl": [
           {
            "marker": {
             "colorbar": {
              "outlinewidth": 0,
              "ticks": ""
             }
            },
            "type": "scatterpolargl"
           }
          ],
          "scatterternary": [
           {
            "marker": {
             "colorbar": {
              "outlinewidth": 0,
              "ticks": ""
             }
            },
            "type": "scatterternary"
           }
          ],
          "surface": [
           {
            "colorbar": {
             "outlinewidth": 0,
             "ticks": ""
            },
            "colorscale": [
             [
              0,
              "#0d0887"
             ],
             [
              0.1111111111111111,
              "#46039f"
             ],
             [
              0.2222222222222222,
              "#7201a8"
             ],
             [
              0.3333333333333333,
              "#9c179e"
             ],
             [
              0.4444444444444444,
              "#bd3786"
             ],
             [
              0.5555555555555556,
              "#d8576b"
             ],
             [
              0.6666666666666666,
              "#ed7953"
             ],
             [
              0.7777777777777778,
              "#fb9f3a"
             ],
             [
              0.8888888888888888,
              "#fdca26"
             ],
             [
              1,
              "#f0f921"
             ]
            ],
            "type": "surface"
           }
          ],
          "table": [
           {
            "cells": {
             "fill": {
              "color": "#EBF0F8"
             },
             "line": {
              "color": "white"
             }
            },
            "header": {
             "fill": {
              "color": "#C8D4E3"
             },
             "line": {
              "color": "white"
             }
            },
            "type": "table"
           }
          ]
         },
         "layout": {
          "annotationdefaults": {
           "arrowcolor": "#2a3f5f",
           "arrowhead": 0,
           "arrowwidth": 1
          },
          "autotypenumbers": "strict",
          "coloraxis": {
           "colorbar": {
            "outlinewidth": 0,
            "ticks": ""
           }
          },
          "colorscale": {
           "diverging": [
            [
             0,
             "#8e0152"
            ],
            [
             0.1,
             "#c51b7d"
            ],
            [
             0.2,
             "#de77ae"
            ],
            [
             0.3,
             "#f1b6da"
            ],
            [
             0.4,
             "#fde0ef"
            ],
            [
             0.5,
             "#f7f7f7"
            ],
            [
             0.6,
             "#e6f5d0"
            ],
            [
             0.7,
             "#b8e186"
            ],
            [
             0.8,
             "#7fbc41"
            ],
            [
             0.9,
             "#4d9221"
            ],
            [
             1,
             "#276419"
            ]
           ],
           "sequential": [
            [
             0,
             "#0d0887"
            ],
            [
             0.1111111111111111,
             "#46039f"
            ],
            [
             0.2222222222222222,
             "#7201a8"
            ],
            [
             0.3333333333333333,
             "#9c179e"
            ],
            [
             0.4444444444444444,
             "#bd3786"
            ],
            [
             0.5555555555555556,
             "#d8576b"
            ],
            [
             0.6666666666666666,
             "#ed7953"
            ],
            [
             0.7777777777777778,
             "#fb9f3a"
            ],
            [
             0.8888888888888888,
             "#fdca26"
            ],
            [
             1,
             "#f0f921"
            ]
           ],
           "sequentialminus": [
            [
             0,
             "#0d0887"
            ],
            [
             0.1111111111111111,
             "#46039f"
            ],
            [
             0.2222222222222222,
             "#7201a8"
            ],
            [
             0.3333333333333333,
             "#9c179e"
            ],
            [
             0.4444444444444444,
             "#bd3786"
            ],
            [
             0.5555555555555556,
             "#d8576b"
            ],
            [
             0.6666666666666666,
             "#ed7953"
            ],
            [
             0.7777777777777778,
             "#fb9f3a"
            ],
            [
             0.8888888888888888,
             "#fdca26"
            ],
            [
             1,
             "#f0f921"
            ]
           ]
          },
          "colorway": [
           "#636efa",
           "#EF553B",
           "#00cc96",
           "#ab63fa",
           "#FFA15A",
           "#19d3f3",
           "#FF6692",
           "#B6E880",
           "#FF97FF",
           "#FECB52"
          ],
          "font": {
           "color": "#2a3f5f"
          },
          "geo": {
           "bgcolor": "white",
           "lakecolor": "white",
           "landcolor": "#E5ECF6",
           "showlakes": true,
           "showland": true,
           "subunitcolor": "white"
          },
          "hoverlabel": {
           "align": "left"
          },
          "hovermode": "closest",
          "mapbox": {
           "style": "light"
          },
          "paper_bgcolor": "white",
          "plot_bgcolor": "#E5ECF6",
          "polar": {
           "angularaxis": {
            "gridcolor": "white",
            "linecolor": "white",
            "ticks": ""
           },
           "bgcolor": "#E5ECF6",
           "radialaxis": {
            "gridcolor": "white",
            "linecolor": "white",
            "ticks": ""
           }
          },
          "scene": {
           "xaxis": {
            "backgroundcolor": "#E5ECF6",
            "gridcolor": "white",
            "gridwidth": 2,
            "linecolor": "white",
            "showbackground": true,
            "ticks": "",
            "zerolinecolor": "white"
           },
           "yaxis": {
            "backgroundcolor": "#E5ECF6",
            "gridcolor": "white",
            "gridwidth": 2,
            "linecolor": "white",
            "showbackground": true,
            "ticks": "",
            "zerolinecolor": "white"
           },
           "zaxis": {
            "backgroundcolor": "#E5ECF6",
            "gridcolor": "white",
            "gridwidth": 2,
            "linecolor": "white",
            "showbackground": true,
            "ticks": "",
            "zerolinecolor": "white"
           }
          },
          "shapedefaults": {
           "line": {
            "color": "#2a3f5f"
           }
          },
          "ternary": {
           "aaxis": {
            "gridcolor": "white",
            "linecolor": "white",
            "ticks": ""
           },
           "baxis": {
            "gridcolor": "white",
            "linecolor": "white",
            "ticks": ""
           },
           "bgcolor": "#E5ECF6",
           "caxis": {
            "gridcolor": "white",
            "linecolor": "white",
            "ticks": ""
           }
          },
          "title": {
           "x": 0.05
          },
          "xaxis": {
           "automargin": true,
           "gridcolor": "white",
           "linecolor": "white",
           "ticks": "",
           "title": {
            "standoff": 15
           },
           "zerolinecolor": "white",
           "zerolinewidth": 2
          },
          "yaxis": {
           "automargin": true,
           "gridcolor": "white",
           "linecolor": "white",
           "ticks": "",
           "title": {
            "standoff": 15
           },
           "zerolinecolor": "white",
           "zerolinewidth": 2
          }
         }
        },
        "title": {
         "text": "Order Time vs Delivery Clock Time"
        },
        "xaxis": {
         "anchor": "y",
         "domain": [
          0,
          1
         ],
         "title": {
          "text": "Order Time"
         }
        },
        "yaxis": {
         "anchor": "x",
         "domain": [
          0,
          1
         ],
         "title": {
          "text": "Delivery Clock Time"
         }
        }
       }
      }
     },
     "metadata": {},
     "output_type": "display_data"
    }
   ],
   "source": [
    "classifi_t=df[[\"Order Time\",\"Delivery Clock Time\",\"Delivery Duration (min)\"]]\n",
    "classifi_t\n",
    "fig = px.scatter(df, x=\"Order Time\", y=\"Delivery Clock Time\", color=\"Delivery Duration (min)\",\n",
    "                 title=\"Order Time vs Delivery Clock Time\")\n",
    "fig.show()\n"
   ]
  },
  {
   "cell_type": "markdown",
   "id": "08a5ee0b",
   "metadata": {},
   "source": [
    "### Average Delivery Duration Count By Restaurant"
   ]
  },
  {
   "cell_type": "code",
   "execution_count": 2054,
   "id": "18dc9902",
   "metadata": {},
   "outputs": [
    {
     "data": {
      "image/png": "[encoded data removed]",
      "text/plain": [
       "<Figure size 1200x600 with 1 Axes>"
      ]
     },
     "metadata": {},
     "output_type": "display_data"
    }
   ],
   "source": [
    "classifi_re=df.groupby(\"Restaurant Name\")[\"Delivery Duration (min)\"].mean().reset_index()\n",
    "classifi_re\n",
    "plt.figure(figsize=(12,6))\n",
    "sns.set_style(\"whitegrid\")\n",
    "sns.barplot(data=classifi_re,x=\"Restaurant Name\",y=\"Delivery Duration (min)\")\n",
    "plt.title(\"Average Delivery Duration Count By Restaurant\",fontsize=15)\n",
    "plt.xticks(rotation=45,ha=\"right\")\n",
    "plt.show()"
   ]
  },
  {
   "cell_type": "code",
   "execution_count": 2055,
   "id": "17aa18c7",
   "metadata": {},
   "outputs": [
    {
     "data": {
      "image/png": "[encoded data removed]",
      "text/plain": [
       "<Figure size 1500x1000 with 1 Axes>"
      ]
     },
     "metadata": {},
     "output_type": "display_data"
    }
   ],
   "source": [
    "plt.figure(figsize=(15,10))\n",
    "sns.histplot(data=df,edgecolor=\"black\")\n",
    "plt.title(\"Classification Table\",fontsize=15)\n",
    "plt.show()"
   ]
  },
  {
   "cell_type": "markdown",
   "id": "7bbb56ee",
   "metadata": {},
   "source": [
    "## Machine Learning"
   ]
  },
  {
   "cell_type": "code",
   "execution_count": 2057,
   "id": "760e359d",
   "metadata": {},
   "outputs": [],
   "source": [
    "df[\"Delivery Date\"]=pd.to_datetime(df[\"Delivery Date\"],errors=\"coerce\")\n"
   ]
  },
  {
   "cell_type": "code",
   "execution_count": 2058,
   "id": "cb50ca09",
   "metadata": {},
   "outputs": [],
   "source": [
    "df[\"Delivery Year\"]=df[\"Delivery Date\"].dt.year\n",
    "df[\"Delivery Month\"]=df[\"Delivery Date\"].dt.month\n",
    "df[\"Delivery Day\"]=df[\"Delivery Date\"].dt.day"
   ]
  },
  {
   "cell_type": "code",
   "execution_count": 2059,
   "id": "a2b59f85",
   "metadata": {},
   "outputs": [],
   "source": [
    "df[[\"Delivery Year\",\"Delivery Month\",\"Delivery Day\"]]=df[[\"Delivery Year\",\"Delivery Month\",\"Delivery Day\"]].apply(lambda x: x.fillna(x.mean()))"
   ]
  },
  {
   "cell_type": "code",
   "execution_count": 2060,
   "id": "137bed6a",
   "metadata": {},
   "outputs": [],
   "source": [
    "df[[\"Delivery Year\",\"Delivery Month\",\"Delivery Day\"]]=df[[\"Delivery Year\",\"Delivery Month\",\"Delivery Day\"]].astype(int)"
   ]
  },
  {
   "cell_type": "code",
   "execution_count": 2062,
   "id": "a1113153",
   "metadata": {},
   "outputs": [],
   "source": [
    "df[\"Order Time\"]=pd.to_datetime(df[\"Order Time\"],errors=\"coerce\")\n",
    "df[\"Order Year\"]=df[\"Order Time\"].dt.year\n",
    "df[\"Order Month\"]=df[\"Order Time\"].dt.month\n",
    "df[\"Order Day\"]=df[\"Order Time\"].dt.day"
   ]
  },
  {
   "cell_type": "code",
   "execution_count": 2063,
   "id": "edcecd26",
   "metadata": {},
   "outputs": [],
   "source": [
    "df[[\"Order Year\",\"Order Month\",\"Order Day\"]]=df[[\"Order Year\",\"Order Month\",\"Order Day\"]].apply(lambda x: x.fillna(x.mean()))"
   ]
  },
  {
   "cell_type": "code",
   "execution_count": 2064,
   "id": "7601c643",
   "metadata": {},
   "outputs": [],
   "source": [
    "df[[\"Order Year\",\"Order Month\",\"Order Day\"]]=df[[\"Order Year\",\"Order Month\",\"Order Day\"]].astype(int)"
   ]
  },
  {
   "cell_type": "code",
   "execution_count": 2066,
   "id": "92884145",
   "metadata": {},
   "outputs": [],
   "source": [
    "df.drop(columns=[\"Delivery Date\",\"Order Time\"],inplace=True)"
   ]
  },
  {
   "cell_type": "code",
   "execution_count": 2067,
   "id": "fa5b12d6",
   "metadata": {},
   "outputs": [
    {
     "data": {
      "text/plain": [
       "Taco Type\n",
       "Chicken Taco    218\n",
       "Fish Taco       211\n",
       "Veggie Taco     197\n",
       "Pork Taco       192\n",
       "Beef Taco       182\n",
       "Name: count, dtype: int64"
      ]
     },
     "execution_count": 2067,
     "metadata": {},
     "output_type": "execute_result"
    }
   ],
   "source": [
    "df[\"Taco Type\"].value_counts()"
   ]
  },
  {
   "cell_type": "markdown",
   "id": "0413da54",
   "metadata": {},
   "source": [
    "### To find out which category corresponds to which number using maping"
   ]
  },
  {
   "cell_type": "code",
   "execution_count": 2068,
   "id": "eccbc49a",
   "metadata": {},
   "outputs": [
    {
     "name": "stdout",
     "output_type": "stream",
     "text": [
      "Taco Size Mapping: {'Large': np.int64(0), 'Regular': np.int64(1)}\n"
     ]
    }
   ],
   "source": [
    "le=LabelEncoder()\n",
    "df[\"Taco Size\"] = le.fit_transform(df[\"Taco Size\"])\n",
    "label_mapping_size = dict(zip(le.classes_, le.transform(le.classes_)))\n",
    "print(\"Taco Size Mapping:\", label_mapping_size)"
   ]
  },
  {
   "cell_type": "code",
   "execution_count": 2069,
   "id": "16b43c35",
   "metadata": {},
   "outputs": [
    {
     "name": "stdout",
     "output_type": "stream",
     "text": [
      "Taco Type Mapping: {'Beef Taco': np.int64(0), 'Chicken Taco': np.int64(1), 'Fish Taco': np.int64(2), 'Pork Taco': np.int64(3), 'Veggie Taco': np.int64(4)}\n"
     ]
    }
   ],
   "source": [
    "df[\"Taco Type\"] = le.fit_transform(df[\"Taco Type\"])\n",
    "label_mapping_type = dict(zip(le.classes_, le.transform(le.classes_)))\n",
    "print(\"Taco Type Mapping:\", label_mapping_type)"
   ]
  },
  {
   "cell_type": "code",
   "execution_count": 2070,
   "id": "b572497e",
   "metadata": {},
   "outputs": [
    {
     "name": "stdout",
     "output_type": "stream",
     "text": [
      "Location Mapping: {'Austin': np.int64(0), 'Chicago': np.int64(1), 'Dallas': np.int64(2), 'Houston': np.int64(3), 'Los Angeles': np.int64(4), 'New York': np.int64(5), 'Phoenix': np.int64(6), 'San Antonio': np.int64(7), 'San Diego': np.int64(8), 'San Jose': np.int64(9)}\n"
     ]
    }
   ],
   "source": [
    "le=LabelEncoder()\n",
    "df[\"Location\"] = le.fit_transform(df[\"Location\"])\n",
    "label_mapping_size = dict(zip(le.classes_, le.transform(le.classes_)))\n",
    "print(\"Location Mapping:\", label_mapping_size)"
   ]
  },
  {
   "cell_type": "code",
   "execution_count": 2071,
   "id": "b9deea8b",
   "metadata": {},
   "outputs": [
    {
     "name": "stdout",
     "output_type": "stream",
     "text": [
      "Restaurant Mapping: {'Casa del Taco': np.int64(0), 'El Taco Loco': np.int64(1), 'Grande Tacos': np.int64(2), 'La Vida Taco': np.int64(3), 'Spicy Taco House': np.int64(4), 'Taco Fiesta': np.int64(5), 'Taco Haven': np.int64(6), 'Taco Time Express': np.int64(7), 'The Taco Stand': np.int64(8), 'Urban Tacos': np.int64(9)}\n"
     ]
    }
   ],
   "source": [
    "le=LabelEncoder()\n",
    "df[\"Restaurant Name\"] = le.fit_transform(df[\"Restaurant Name\"])\n",
    "label_mapping_size = dict(zip(le.classes_, le.transform(le.classes_)))\n",
    "print(\"Restaurant Mapping:\", label_mapping_size)"
   ]
  },
  {
   "cell_type": "code",
   "execution_count": 2072,
   "id": "62ba0489",
   "metadata": {},
   "outputs": [],
   "source": [
    "df[\"Weekend Order\"]=df[\"Weekend Order\"].astype(int)  ## Converting boiol dtype column into numeric "
   ]
  },
  {
   "cell_type": "code",
   "execution_count": 2073,
   "id": "e21fac1f",
   "metadata": {},
   "outputs": [
    {
     "data": {
      "text/html": [
       "<div>\n",
       "<style scoped>\n",
       "    .dataframe tbody tr th:only-of-type {\n",
       "        vertical-align: middle;\n",
       "    }\n",
       "\n",
       "    .dataframe tbody tr th {\n",
       "        vertical-align: top;\n",
       "    }\n",
       "\n",
       "    .dataframe thead th {\n",
       "        text-align: right;\n",
       "    }\n",
       "</style>\n",
       "<table border=\"1\" class=\"dataframe\">\n",
       "  <thead>\n",
       "    <tr style=\"text-align: right;\">\n",
       "      <th></th>\n",
       "      <th>Restaurant Name</th>\n",
       "      <th>Location</th>\n",
       "      <th>Delivery Duration (min)</th>\n",
       "      <th>Taco Size</th>\n",
       "      <th>Taco Type</th>\n",
       "      <th>Toppings Count</th>\n",
       "      <th>Distance (km)</th>\n",
       "      <th>Price ($)</th>\n",
       "      <th>Tip ($)</th>\n",
       "      <th>Weekend Order</th>\n",
       "      <th>Delivery Clock Time</th>\n",
       "      <th>Delivery Year</th>\n",
       "      <th>Delivery Month</th>\n",
       "      <th>Delivery Day</th>\n",
       "      <th>Order Year</th>\n",
       "      <th>Order Month</th>\n",
       "      <th>Order Day</th>\n",
       "    </tr>\n",
       "  </thead>\n",
       "  <tbody>\n",
       "    <tr>\n",
       "      <th>0</th>\n",
       "      <td>1</td>\n",
       "      <td>5</td>\n",
       "      <td>41</td>\n",
       "      <td>1</td>\n",
       "      <td>1</td>\n",
       "      <td>5</td>\n",
       "      <td>3.01</td>\n",
       "      <td>9.25</td>\n",
       "      <td>2.22</td>\n",
       "      <td>0</td>\n",
       "      <td>15:36</td>\n",
       "      <td>2024</td>\n",
       "      <td>1</td>\n",
       "      <td>8</td>\n",
       "      <td>2024</td>\n",
       "      <td>1</td>\n",
       "      <td>8</td>\n",
       "    </tr>\n",
       "    <tr>\n",
       "      <th>1</th>\n",
       "      <td>1</td>\n",
       "      <td>7</td>\n",
       "      <td>14</td>\n",
       "      <td>1</td>\n",
       "      <td>0</td>\n",
       "      <td>1</td>\n",
       "      <td>6.20</td>\n",
       "      <td>4.25</td>\n",
       "      <td>3.01</td>\n",
       "      <td>1</td>\n",
       "      <td>17:25</td>\n",
       "      <td>2024</td>\n",
       "      <td>6</td>\n",
       "      <td>5</td>\n",
       "      <td>2024</td>\n",
       "      <td>6</td>\n",
       "      <td>5</td>\n",
       "    </tr>\n",
       "    <tr>\n",
       "      <th>2</th>\n",
       "      <td>6</td>\n",
       "      <td>0</td>\n",
       "      <td>38</td>\n",
       "      <td>0</td>\n",
       "      <td>3</td>\n",
       "      <td>2</td>\n",
       "      <td>20.33</td>\n",
       "      <td>7.00</td>\n",
       "      <td>0.02</td>\n",
       "      <td>0</td>\n",
       "      <td>21:02</td>\n",
       "      <td>2024</td>\n",
       "      <td>6</td>\n",
       "      <td>5</td>\n",
       "      <td>2024</td>\n",
       "      <td>6</td>\n",
       "      <td>5</td>\n",
       "    </tr>\n",
       "    <tr>\n",
       "      <th>3</th>\n",
       "      <td>4</td>\n",
       "      <td>2</td>\n",
       "      <td>45</td>\n",
       "      <td>1</td>\n",
       "      <td>1</td>\n",
       "      <td>2</td>\n",
       "      <td>3.00</td>\n",
       "      <td>5.50</td>\n",
       "      <td>1.90</td>\n",
       "      <td>1</td>\n",
       "      <td>07:28</td>\n",
       "      <td>2024</td>\n",
       "      <td>6</td>\n",
       "      <td>5</td>\n",
       "      <td>2024</td>\n",
       "      <td>6</td>\n",
       "      <td>5</td>\n",
       "    </tr>\n",
       "    <tr>\n",
       "      <th>4</th>\n",
       "      <td>0</td>\n",
       "      <td>7</td>\n",
       "      <td>15</td>\n",
       "      <td>0</td>\n",
       "      <td>3</td>\n",
       "      <td>0</td>\n",
       "      <td>24.34</td>\n",
       "      <td>4.50</td>\n",
       "      <td>1.14</td>\n",
       "      <td>0</td>\n",
       "      <td>11:16</td>\n",
       "      <td>2024</td>\n",
       "      <td>6</td>\n",
       "      <td>5</td>\n",
       "      <td>2024</td>\n",
       "      <td>6</td>\n",
       "      <td>5</td>\n",
       "    </tr>\n",
       "  </tbody>\n",
       "</table>\n",
       "</div>"
      ],
      "text/plain": [
       "   Restaurant Name  Location  Delivery Duration (min)  Taco Size  Taco Type  \\\n",
       "0                1         5                       41          1          1   \n",
       "1                1         7                       14          1          0   \n",
       "2                6         0                       38          0          3   \n",
       "3                4         2                       45          1          1   \n",
       "4                0         7                       15          0          3   \n",
       "\n",
       "   Toppings Count  Distance (km)  Price ($)  Tip ($)  Weekend Order  \\\n",
       "0               5           3.01       9.25     2.22              0   \n",
       "1               1           6.20       4.25     3.01              1   \n",
       "2               2          20.33       7.00     0.02              0   \n",
       "3               2           3.00       5.50     1.90              1   \n",
       "4               0          24.34       4.50     1.14              0   \n",
       "\n",
       "  Delivery Clock Time  Delivery Year  Delivery Month  Delivery Day  \\\n",
       "0               15:36           2024               1             8   \n",
       "1               17:25           2024               6             5   \n",
       "2               21:02           2024               6             5   \n",
       "3               07:28           2024               6             5   \n",
       "4               11:16           2024               6             5   \n",
       "\n",
       "   Order Year  Order Month  Order Day  \n",
       "0        2024            1          8  \n",
       "1        2024            6          5  \n",
       "2        2024            6          5  \n",
       "3        2024            6          5  \n",
       "4        2024            6          5  "
      ]
     },
     "execution_count": 2073,
     "metadata": {},
     "output_type": "execute_result"
    }
   ],
   "source": [
    "df.head()"
   ]
  },
  {
   "cell_type": "code",
   "execution_count": 2074,
   "id": "662d753c",
   "metadata": {},
   "outputs": [],
   "source": [
    "df[\"Delivery Clock Time\"] = pd.to_datetime(df[\"Delivery Clock Time\"], format=\"%H:%M\", errors=\"coerce\")\n",
    "df[\"Delivery Time\"]=df[\"Delivery Clock Time\"].dt.time\n"
   ]
  },
  {
   "cell_type": "code",
   "execution_count": 2075,
   "id": "b116e1c0",
   "metadata": {},
   "outputs": [],
   "source": [
    "df.drop(columns=[\"Delivery Clock Time\",\"Delivery Time\"],inplace=True) # Removing Columns"
   ]
  },
  {
   "cell_type": "code",
   "execution_count": 2076,
   "id": "61890bee",
   "metadata": {},
   "outputs": [
    {
     "name": "stdout",
     "output_type": "stream",
     "text": [
      "<class 'pandas.core.frame.DataFrame'>\n",
      "RangeIndex: 1000 entries, 0 to 999\n",
      "Data columns (total 16 columns):\n",
      " #   Column                   Non-Null Count  Dtype  \n",
      "---  ------                   --------------  -----  \n",
      " 0   Restaurant Name          1000 non-null   int64  \n",
      " 1   Location                 1000 non-null   int64  \n",
      " 2   Delivery Duration (min)  1000 non-null   int64  \n",
      " 3   Taco Size                1000 non-null   int64  \n",
      " 4   Taco Type                1000 non-null   int64  \n",
      " 5   Toppings Count           1000 non-null   int64  \n",
      " 6   Distance (km)            1000 non-null   float64\n",
      " 7   Price ($)                1000 non-null   float64\n",
      " 8   Tip ($)                  1000 non-null   float64\n",
      " 9   Weekend Order            1000 non-null   int64  \n",
      " 10  Delivery Year            1000 non-null   int64  \n",
      " 11  Delivery Month           1000 non-null   int64  \n",
      " 12  Delivery Day             1000 non-null   int64  \n",
      " 13  Order Year               1000 non-null   int64  \n",
      " 14  Order Month              1000 non-null   int64  \n",
      " 15  Order Day                1000 non-null   int64  \n",
      "dtypes: float64(3), int64(13)\n",
      "memory usage: 125.1 KB\n"
     ]
    }
   ],
   "source": [
    "df.info()"
   ]
  },
  {
   "cell_type": "code",
   "execution_count": 2078,
   "id": "73e097b9",
   "metadata": {},
   "outputs": [
    {
     "data": {
      "text/plain": [
       "Restaurant Name\n",
       "9    117\n",
       "2    106\n",
       "8    105\n",
       "0    104\n",
       "4    100\n",
       "5     99\n",
       "3     98\n",
       "6     95\n",
       "7     91\n",
       "1     85\n",
       "Name: count, dtype: int64"
      ]
     },
     "execution_count": 2078,
     "metadata": {},
     "output_type": "execute_result"
    }
   ],
   "source": [
    "df[\"Restaurant Name\"].value_counts()"
   ]
  },
  {
   "cell_type": "code",
   "execution_count": 2079,
   "id": "0f9cf416",
   "metadata": {},
   "outputs": [
    {
     "name": "stdout",
     "output_type": "stream",
     "text": [
      "<class 'pandas.core.frame.DataFrame'>\n",
      "RangeIndex: 1000 entries, 0 to 999\n",
      "Data columns (total 16 columns):\n",
      " #   Column                   Non-Null Count  Dtype  \n",
      "---  ------                   --------------  -----  \n",
      " 0   Restaurant Name          1000 non-null   int64  \n",
      " 1   Location                 1000 non-null   int64  \n",
      " 2   Delivery Duration (min)  1000 non-null   int64  \n",
      " 3   Taco Size                1000 non-null   int64  \n",
      " 4   Taco Type                1000 non-null   int64  \n",
      " 5   Toppings Count           1000 non-null   int64  \n",
      " 6   Distance (km)            1000 non-null   float64\n",
      " 7   Price ($)                1000 non-null   float64\n",
      " 8   Tip ($)                  1000 non-null   float64\n",
      " 9   Weekend Order            1000 non-null   int64  \n",
      " 10  Delivery Year            1000 non-null   int64  \n",
      " 11  Delivery Month           1000 non-null   int64  \n",
      " 12  Delivery Day             1000 non-null   int64  \n",
      " 13  Order Year               1000 non-null   int64  \n",
      " 14  Order Month              1000 non-null   int64  \n",
      " 15  Order Day                1000 non-null   int64  \n",
      "dtypes: float64(3), int64(13)\n",
      "memory usage: 125.1 KB\n"
     ]
    }
   ],
   "source": [
    "df.info()"
   ]
  },
  {
   "cell_type": "code",
   "execution_count": 2080,
   "id": "851e3cad",
   "metadata": {},
   "outputs": [
    {
     "name": "stdout",
     "output_type": "stream",
     "text": [
      "Series([], dtype: object)\n",
      "Series([], dtype: object)\n"
     ]
    }
   ],
   "source": [
    "print(df.dtypes[df.dtypes == \"object\"])  # shows object-type columns\n",
    "print(df.dtypes[df.dtypes == \"datetime64[ns]\"])  # shows datetime columns\n"
   ]
  },
  {
   "cell_type": "code",
   "execution_count": 2081,
   "id": "13f9959f",
   "metadata": {},
   "outputs": [],
   "source": [
    "df.fillna(df.mean(), inplace=True)  # Fill NaNs with mean values\n"
   ]
  },
  {
   "cell_type": "code",
   "execution_count": 2082,
   "id": "f1198a0b",
   "metadata": {},
   "outputs": [
    {
     "name": "stdout",
     "output_type": "stream",
     "text": [
      "MSE: 1.303001000198806e-29\n"
     ]
    }
   ],
   "source": [
    "x = df.drop(\"Price ($)\", axis=1)\n",
    "y = df[\"Price ($)\"]\n",
    "\n",
    "x_train, x_test, y_train, y_test = train_test_split(x, y, test_size=0.2, random_state=42)\n",
    "\n",
    "model = LinearRegression()\n",
    "model.fit(x_train, y_train)\n",
    "\n",
    "y_pred = model.predict(x_test)\n",
    "\n",
    "print(\"MSE:\", mean_squared_error(y_test, y_pred))\n"
   ]
  },
  {
   "cell_type": "markdown",
   "id": "24cd0a9d",
   "metadata": {},
   "source": [
    "## Correlation Heatmap"
   ]
  },
  {
   "cell_type": "code",
   "execution_count": 2083,
   "id": "f74cdbb6",
   "metadata": {},
   "outputs": [
    {
     "data": {
      "image/png": "[encoded data removed]",
      "text/plain": [
       "<Figure size 1200x800 with 2 Axes>"
      ]
     },
     "metadata": {},
     "output_type": "display_data"
    }
   ],
   "source": [
    "cor=df.select_dtypes(include=\"number\").corr()\n",
    "plt.figure(figsize=(12,8))\n",
    "sns.heatmap(data=cor,annot=True,fmt=\".2f\")\n",
    "plt.show()"
   ]
  },
  {
   "cell_type": "markdown",
   "id": "c68041dd",
   "metadata": {},
   "source": [
    "## Predicting Price With New Data"
   ]
  },
  {
   "cell_type": "code",
   "execution_count": 2084,
   "id": "d388f1ca",
   "metadata": {},
   "outputs": [],
   "source": [
    "import pandas as pd\n",
    "\n",
    "new_data = pd.DataFrame([{\n",
    "    'Restaurant Name': 42,\n",
    "    'Location': 3,\n",
    "    'Delivery Duration (min)': 12,\n",
    "    'Taco Size': 1,\n",
    "    'Taco Type': 2,\n",
    "    'Toppings Count': 3,\n",
    "    'Distance (km)': 4.5,\n",
    "    'Tip ($)': 1.25,\n",
    "    'Weekend Order': 0,\n",
    "    'Delivery Year': 2024,\n",
    "    'Delivery Month': 6,\n",
    "    'Delivery Day': 12,\n",
    "    'Order Year': 2024,\n",
    "    'Order Month': 6,\n",
    "    'Order Day': 12\n",
    "}])\n"
   ]
  },
  {
   "cell_type": "code",
   "execution_count": 2085,
   "id": "09d158ce",
   "metadata": {},
   "outputs": [
    {
     "name": "stdout",
     "output_type": "stream",
     "text": [
      "Predicted Price of Taco: $6.75\n"
     ]
    }
   ],
   "source": [
    "predicted_price = model.predict(new_data)\n",
    "print(f\"Predicted Price of Taco: ${predicted_price[0]:.2f}\")"
   ]
  }
 ],
 "metadata": {
  "kernelspec": {
   "display_name": "Python 3",
   "language": "python",
   "name": "python3"
  },
  "language_info": {
   "codemirror_mode": {
    "name": "ipython",
    "version": 3
   },
   "file_extension": ".py",
   "mimetype": "text/x-python",
   "name": "python",
   "nbconvert_exporter": "python",
   "pygments_lexer": "ipython3",
   "version": "3.12.4"
  }
 },
 "nbformat": 4,
 "nbformat_minor": 5
}
